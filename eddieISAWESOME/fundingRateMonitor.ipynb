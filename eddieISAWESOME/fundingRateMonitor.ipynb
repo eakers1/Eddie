{
 "cells": [
  {
   "cell_type": "code",
   "execution_count": 83,
   "metadata": {},
   "outputs": [],
   "source": [
    "import sys \n",
    "sys.path.append(\"/home/eddie_akers_anchorlabs_com/anchorage/source/python/trading/agency_desk\")\n",
    "from lib import talos_utils\n",
    "\n",
    "sys.path.append(\"/home/eddie_akers_anchorlabs_com/anchorage/source/python/quant_lib/anchoragequantlib\")\n",
    "import google_sheet_utility as aql_google_sheet_utility\n",
    "import utils as aql_utils\n",
    "import json\n",
    "import pandas as pd\n",
    "import os\n"
   ]
  },
  {
   "cell_type": "code",
   "execution_count": 124,
   "metadata": {},
   "outputs": [
    {
     "name": "stdout",
     "output_type": "stream",
     "text": [
      "Data for BTC-USDT-SWAP: {'code': '0', 'data': [{'fundingRate': '0.0000289843340695', 'fundingTime': '1720483200000', 'instId': 'BTC-USDT-SWAP', 'instType': 'SWAP', 'maxFundingRate': '0.00375', 'method': 'current_period', 'minFundingRate': '-0.00375', 'nextFundingRate': '', 'nextFundingTime': '1720512000000', 'premium': '-0.0000717705892986', 'settFundingRate': '0.0000173742544987', 'settState': 'settled', 'ts': '1720464194036'}], 'msg': ''}\n"
     ]
    },
    {
     "data": {
      "text/html": [
       "<pre style=\"white-space:pre;overflow-x:auto;line-height:normal;font-family:Menlo,'DejaVu Sans Mono',consolas,'Courier New',monospace\"><span style=\"color: #808000; text-decoration-color: #808000; font-weight: bold\">/tmp/ipykernel_15392/1625052038.py:</span><span style=\"color: #808000; text-decoration-color: #808000; font-weight: bold\">37</span><span style=\"color: #808000; text-decoration-color: #808000; font-weight: bold\"> FutureWarning</span><span style=\"color: #808000; text-decoration-color: #808000\">: The behavior of </span><span style=\"color: #808000; text-decoration-color: #808000\">'to_datetime'</span><span style=\"color: #808000; text-decoration-color: #808000\"> with </span><span style=\"color: #808000; text-decoration-color: #808000\">'unit'</span><span style=\"color: #808000; text-decoration-color: #808000\"> when parsing strings is deprecated. In a future version, strings will be parsed as datetime strings, matching the behavior without a </span><span style=\"color: #808000; text-decoration-color: #808000\">'unit'</span><span style=\"color: #808000; text-decoration-color: #808000\">. To retain the old behavior, explicitly cast ints or floats to numeric type before calling to_datetime.</span>\n",
       "</pre>\n"
      ],
      "text/plain": [
       "\u001b[1;33m/tmp/ipykernel_15392/\u001b[0m\u001b[1;33m1625052038.py\u001b[0m\u001b[1;33m:\u001b[0m\u001b[1;33m37\u001b[0m\u001b[1;33m FutureWarning\u001b[0m\u001b[33m: The behavior of \u001b[0m\u001b[33m'to_datetime'\u001b[0m\u001b[33m with \u001b[0m\u001b[33m'unit'\u001b[0m\u001b[33m when parsing strings is deprecated. In a future version, strings will be parsed as datetime strings, matching the behavior without a \u001b[0m\u001b[33m'unit'\u001b[0m\u001b[33m. To retain the old behavior, explicitly cast ints or floats to numeric type before calling to_datetime.\u001b[0m\n"
      ]
     },
     "metadata": {},
     "output_type": "display_data"
    },
    {
     "data": {
      "text/html": [
       "<pre style=\"white-space:pre;overflow-x:auto;line-height:normal;font-family:Menlo,'DejaVu Sans Mono',consolas,'Courier New',monospace\"><span style=\"color: #808000; text-decoration-color: #808000; font-weight: bold\">/tmp/ipykernel_15392/1625052038.py:</span><span style=\"color: #808000; text-decoration-color: #808000; font-weight: bold\">38</span><span style=\"color: #808000; text-decoration-color: #808000; font-weight: bold\"> FutureWarning</span><span style=\"color: #808000; text-decoration-color: #808000\">: The behavior of </span><span style=\"color: #808000; text-decoration-color: #808000\">'to_datetime'</span><span style=\"color: #808000; text-decoration-color: #808000\"> with </span><span style=\"color: #808000; text-decoration-color: #808000\">'unit'</span><span style=\"color: #808000; text-decoration-color: #808000\"> when parsing strings is deprecated. In a future version, strings will be parsed as datetime strings, matching the behavior without a </span><span style=\"color: #808000; text-decoration-color: #808000\">'unit'</span><span style=\"color: #808000; text-decoration-color: #808000\">. To retain the old behavior, explicitly cast ints or floats to numeric type before calling to_datetime.</span>\n",
       "</pre>\n"
      ],
      "text/plain": [
       "\u001b[1;33m/tmp/ipykernel_15392/\u001b[0m\u001b[1;33m1625052038.py\u001b[0m\u001b[1;33m:\u001b[0m\u001b[1;33m38\u001b[0m\u001b[1;33m FutureWarning\u001b[0m\u001b[33m: The behavior of \u001b[0m\u001b[33m'to_datetime'\u001b[0m\u001b[33m with \u001b[0m\u001b[33m'unit'\u001b[0m\u001b[33m when parsing strings is deprecated. In a future version, strings will be parsed as datetime strings, matching the behavior without a \u001b[0m\u001b[33m'unit'\u001b[0m\u001b[33m. To retain the old behavior, explicitly cast ints or floats to numeric type before calling to_datetime.\u001b[0m\n"
      ]
     },
     "metadata": {},
     "output_type": "display_data"
    },
    {
     "data": {
      "text/html": [
       "<pre style=\"white-space:pre;overflow-x:auto;line-height:normal;font-family:Menlo,'DejaVu Sans Mono',consolas,'Courier New',monospace\"><span style=\"color: #808000; text-decoration-color: #808000; font-weight: bold\">/tmp/ipykernel_15392/1625052038.py:</span><span style=\"color: #808000; text-decoration-color: #808000; font-weight: bold\">41</span><span style=\"color: #808000; text-decoration-color: #808000; font-weight: bold\"> FutureWarning</span><span style=\"color: #808000; text-decoration-color: #808000\">: The behavior of </span><span style=\"color: #808000; text-decoration-color: #808000\">'to_datetime'</span><span style=\"color: #808000; text-decoration-color: #808000\"> with </span><span style=\"color: #808000; text-decoration-color: #808000\">'unit'</span><span style=\"color: #808000; text-decoration-color: #808000\"> when parsing strings is deprecated. In a future version, strings will be parsed as datetime strings, matching the behavior without a </span><span style=\"color: #808000; text-decoration-color: #808000\">'unit'</span><span style=\"color: #808000; text-decoration-color: #808000\">. To retain the old behavior, explicitly cast ints or floats to numeric type before calling to_datetime.</span>\n",
       "</pre>\n"
      ],
      "text/plain": [
       "\u001b[1;33m/tmp/ipykernel_15392/\u001b[0m\u001b[1;33m1625052038.py\u001b[0m\u001b[1;33m:\u001b[0m\u001b[1;33m41\u001b[0m\u001b[1;33m FutureWarning\u001b[0m\u001b[33m: The behavior of \u001b[0m\u001b[33m'to_datetime'\u001b[0m\u001b[33m with \u001b[0m\u001b[33m'unit'\u001b[0m\u001b[33m when parsing strings is deprecated. In a future version, strings will be parsed as datetime strings, matching the behavior without a \u001b[0m\u001b[33m'unit'\u001b[0m\u001b[33m. To retain the old behavior, explicitly cast ints or floats to numeric type before calling to_datetime.\u001b[0m\n"
      ]
     },
     "metadata": {},
     "output_type": "display_data"
    },
    {
     "name": "stdout",
     "output_type": "stream",
     "text": [
      "Data for ETH-USDT-SWAP: {'code': '0', 'data': [{'fundingRate': '0.0000422519684178', 'fundingTime': '1720483200000', 'instId': 'ETH-USDT-SWAP', 'instType': 'SWAP', 'maxFundingRate': '0.0075', 'method': 'current_period', 'minFundingRate': '-0.0075', 'nextFundingRate': '', 'nextFundingTime': '1720512000000', 'premium': '0.0000384046379445', 'settFundingRate': '0.0000529455345788', 'settState': 'settled', 'ts': '1720464194059'}], 'msg': ''}\n",
      "Data for SOL-USDT-SWAP: {'code': '0', 'data': [{'fundingRate': '0.0002002796102355', 'fundingTime': '1720483200000', 'instId': 'SOL-USDT-SWAP', 'instType': 'SWAP', 'maxFundingRate': '0.015', 'method': 'current_period', 'minFundingRate': '-0.015', 'nextFundingRate': '', 'nextFundingTime': '1720512000000', 'premium': '-0.0001089878660176', 'settFundingRate': '0.0001472245024564', 'settState': 'settled', 'ts': '1720464194321'}], 'msg': ''}\n",
      "Data for XRP-USDT-SWAP: {'code': '0', 'data': [{'fundingRate': '0.0000805881470175', 'fundingTime': '1720483200000', 'instId': 'XRP-USDT-SWAP', 'instType': 'SWAP', 'maxFundingRate': '0.0075', 'method': 'current_period', 'minFundingRate': '-0.0075', 'nextFundingRate': '', 'nextFundingTime': '1720512000000', 'premium': '-0.0001163873370577', 'settFundingRate': '0.0001590891510015', 'settState': 'settled', 'ts': '1720464194175'}], 'msg': ''}\n",
      "  coin         symbol exchange  fundingRate fundingTime     nextFundingTime  \\\n",
      "0  BTC  BTC-USDT-SWAP      OKX     0.000029  2024-07-09 2024-07-09 08:00:00   \n",
      "1  ETH  ETH-USDT-SWAP      OKX     0.000042  2024-07-09 2024-07-09 08:00:00   \n",
      "2  SOL  SOL-USDT-SWAP      OKX     0.000200  2024-07-09 2024-07-09 08:00:00   \n",
      "3  XRP  XRP-USDT-SWAP      OKX     0.000081  2024-07-09 2024-07-09 08:00:00   \n",
      "\n",
      "   minFundingRate  maxFundingRate                      ts  cadence  \n",
      "0        -0.00375         0.00375 2024-07-08 18:43:14.036        8  \n",
      "1        -0.00750         0.00750 2024-07-08 18:43:14.059        8  \n",
      "2        -0.01500         0.01500 2024-07-08 18:43:14.321        8  \n",
      "3        -0.00750         0.00750 2024-07-08 18:43:14.175        8  \n"
     ]
    }
   ],
   "source": [
    "import requests\n",
    "import pandas as pd\n",
    "\n",
    "# Define your list of cryptos and suffix\n",
    "cryptos = ['BTC', 'ETH', 'SOL', 'XRP']  # Example cryptos\n",
    "suffix = '-USDT-SWAP'\n",
    "symbols = [crypto + suffix for crypto in cryptos]\n",
    "\n",
    "def fetch_funding_rates(symbols):\n",
    "    funding_rates = []\n",
    "    base_url = 'https://www.okx.com/api/v5/public/funding-rate'\n",
    "\n",
    "    for symbol in symbols:\n",
    "        try:\n",
    "            # Fetch funding rate from OKX public API\n",
    "            response = requests.get(base_url, params={'instId': symbol})\n",
    "            response.raise_for_status()  # Check if request was successful\n",
    "\n",
    "            data = response.json()\n",
    "            \n",
    "            # Print data for debugging\n",
    "            print(f\"Data for {symbol}: {data}\")\n",
    "\n",
    "            if 'data' in data and len(data['data']) > 0:\n",
    "                # Extract relevant information\n",
    "                funding_rate_info = data['data'][0]  # Assuming the first entry is relevant\n",
    "                \n",
    "                # Helper function to safely convert values to float\n",
    "                def safe_float(value):\n",
    "                    try:\n",
    "                        return float(value)\n",
    "                    except (TypeError, ValueError):\n",
    "                        return None\n",
    "                \n",
    "                # Extracting fields with default values if not present\n",
    "                fundingRate = safe_float(funding_rate_info.get('fundingRate', 0))\n",
    "                fundingTime = pd.to_datetime(funding_rate_info.get('fundingTime'), unit='ms')\n",
    "                nextFundingTime = pd.to_datetime(funding_rate_info.get('nextFundingTime', 0), unit='ms')\n",
    "                minFundingRate = safe_float(funding_rate_info.get('minFundingRate', 0))\n",
    "                maxFundingRate = safe_float(funding_rate_info.get('maxFundingRate', 0))\n",
    "                ts = pd.to_datetime(funding_rate_info.get('ts'), unit='ms')\n",
    "\n",
    "                # Calculate cadence as the difference between nextFundingTime and fundingTime\n",
    "                if nextFundingTime and fundingTime:\n",
    "                    cadence = nextFundingTime - fundingTime\n",
    "                    # Convert cadence to hours and round to the nearest whole number\n",
    "                    cadence_hours = round(cadence.total_seconds() / 3600)\n",
    "                else:\n",
    "                    cadence_hours = None\n",
    "\n",
    "                fundingRates = {\n",
    "                    'coin': symbol.replace(suffix, ''),  # Extract the base cryptocurrency name\n",
    "                    'symbol': symbol,\n",
    "                    'exchange': 'OKX',\n",
    "                    'fundingRate': fundingRate,\n",
    "                    'fundingTime': fundingTime,\n",
    "                    'nextFundingTime': nextFundingTime,\n",
    "                    'minFundingRate': minFundingRate,\n",
    "                    'maxFundingRate': maxFundingRate,\n",
    "                    'ts': ts,\n",
    "                    'cadence': cadence_hours\n",
    "                }\n",
    "\n",
    "                funding_rates.append(fundingRates)\n",
    "            else:\n",
    "                print(f\"No data returned for {symbol}\")\n",
    "                funding_rates.append({\n",
    "                    'coin': symbol.replace(suffix, ''),  # Extract the base cryptocurrency name\n",
    "                    'symbol': symbol,\n",
    "                    'exchange': 'OKX',\n",
    "                    'fundingRate': None,\n",
    "                    'fundingTime': None,\n",
    "                    'nextFundingTime': None,\n",
    "                    'minFundingRate': None,\n",
    "                    'maxFundingRate': None,\n",
    "                    'ts': None,\n",
    "                    'cadence': None\n",
    "                })\n",
    "        except Exception as e:\n",
    "            print(f\"Error fetching funding rate for {symbol}: {e}\")\n",
    "            funding_rates.append({\n",
    "                'coin': symbol.replace(suffix, ''),  # Extract the base cryptocurrency name\n",
    "                'symbol': symbol,\n",
    "                'exchange': 'OKX',\n",
    "                'fundingRate': None,\n",
    "                'fundingTime': None,\n",
    "                'nextFundingTime': None,\n",
    "                'minFundingRate': None,\n",
    "                'maxFundingRate': None,\n",
    "                'ts': None,\n",
    "                'cadence': None\n",
    "            })\n",
    "\n",
    "    return pd.DataFrame(funding_rates)\n",
    "\n",
    "# Fetch the funding rates\n",
    "funding_rates_df = fetch_funding_rates(symbols)\n",
    "\n",
    "# Display the DataFrame\n",
    "print(funding_rates_df)\n",
    "\n"
   ]
  },
  {
   "cell_type": "code",
   "execution_count": 139,
   "metadata": {},
   "outputs": [],
   "source": [
    "from datetime import datetime\n",
    "\n",
    "def post_to_slack(message, webhook_url):\n",
    "    payload = {\n",
    "        \"text\": message\n",
    "    }\n",
    "    response = requests.post(webhook_url, json=payload)\n",
    "    if response.status_code == 200:\n",
    "        print(\"Message posted to Slack successfully.\")\n",
    "    else:\n",
    "        print(f\"Failed to post message to Slack. Status code: {response.status_code}\")\n",
    "\n",
    "def check_and_alert(funding_rates_df, alerts_df, slack_webhook_url):\n",
    "    messages = []\n",
    "\n",
    "    # Merge funding rates with alert settings on coin\n",
    "    merged_df = pd.merge(funding_rates_df, alerts_df, left_on='coin', right_on='coin', how='left')\n",
    "\n",
    "    # Print merged DataFrame for debugging\n",
    "    # print(\"Merged DataFrame:\")\n",
    "    # print(merged_df.head())\n",
    "\n",
    "    for _, row in merged_df.iterrows():\n",
    "        if row['AlertOn?'] and row['fundingRate'] is not None:\n",
    "            try:\n",
    "                lower_bound = float(row['Lower'])\n",
    "                upper_bound = float(row['Upper'])\n",
    "                funding_rate = float(row['fundingRate'])\n",
    "                cadence = row['cadence']\n",
    "\n",
    "                if cadence and cadence > 0:\n",
    "                    # Calculate annualized funding rate using the new formula\n",
    "                    annualized_funding_rate = funding_rate * (24 / cadence) * 365\n",
    "                    annualized_funding_rate_percentage = annualized_funding_rate * 100\n",
    "\n",
    "                    # Calculate time until next funding rate\n",
    "                    if row['fundingTime'] and row['ts']:\n",
    "                        next_funding_time = pd.to_datetime(row['fundingTime'])\n",
    "                        current_time = pd.to_datetime(row['ts'])\n",
    "                        time_until_next_funding = next_funding_time - current_time\n",
    "\n",
    "                        # Extract hours and minutes from the timedelta\n",
    "                        total_seconds = time_until_next_funding.total_seconds()\n",
    "                        hours = int(total_seconds // 3600)\n",
    "                        minutes = int((total_seconds % 3600) // 60)\n",
    "                        \n",
    "                        time_until_next_funding_str = f\"{hours} hours, {minutes} minutes\"\n",
    "                    else:\n",
    "                        time_until_next_funding_str = \"N/A\"\n",
    "\n",
    "                    # Determine if the funding rate is out of bounds\n",
    "                    if funding_rate < lower_bound:\n",
    "                        status = 'Less Than'\n",
    "                        comparison = 'Lower Bound'\n",
    "                    elif funding_rate > upper_bound:\n",
    "                        status = 'Greater Than'\n",
    "                        comparison = 'Upper Bound'\n",
    "                    else:\n",
    "                        status = None\n",
    "                        comparison = None\n",
    "\n",
    "                    if status:\n",
    "                        message = (f\":rotating_light: Alert for *{row['symbol']}!*\\n\"\n",
    "                               f\"Current Fund Rate Annualized: *{annualized_funding_rate_percentage:.2f}%*\\n\"\n",
    "                               f\"Time Until Next Funding Rate: {time_until_next_funding_str}\\n\"\n",
    "                               f\"cc: <!here>\")\n",
    "                        messages.append(message)\n",
    "                else:\n",
    "                    print(f\"Invalid cadence value: {cadence}\")\n",
    "\n",
    "            except ValueError:\n",
    "                print(f\"Invalid value encountered in row: {row}\")\n",
    "\n",
    "    # Post all messages to Slack if any alerts are triggered\n",
    "    if messages:\n",
    "        for message in messages:\n",
    "            post_to_slack(message, slack_webhook_url)\n",
    "    else:\n",
    "        print(\"No alerts triggered.\")"
   ]
  },
  {
   "cell_type": "code",
   "execution_count": null,
   "metadata": {},
   "outputs": [
    {
     "data": {
      "text/html": [
       "<pre style=\"white-space:pre;overflow-x:auto;line-height:normal;font-family:Menlo,'DejaVu Sans Mono',consolas,'Courier New',monospace\"><span style=\"color: #808000; text-decoration-color: #808000; font-weight: bold\">/home/eddie_akers_anchorlabs_com/.local/lib/python3.9/site-packages/google/auth/_default.py:</span><span style=\"color: #808000; text-decoration-color: #808000; font-weight: bold\">76</span><span style=\"color: #808000; text-decoration-color: #808000; font-weight: bold\"> UserWarning</span><span style=\"color: #808000; text-decoration-color: #808000\">: Your application has authenticated using end user credentials from Google Cloud SDK without a quota project. You might receive a </span><span style=\"color: #808000; text-decoration-color: #808000\">\"quota exceeded\"</span><span style=\"color: #808000; text-decoration-color: #808000\"> or </span><span style=\"color: #808000; text-decoration-color: #808000\">\"API not enabled\"</span><span style=\"color: #808000; text-decoration-color: #808000\"> error. See the following page for troubleshooting: </span><span style=\"color: #808000; text-decoration-color: #808000; text-decoration: underline\">https://cloud.google.com/docs/authentication/adc-troubleshooting/user-creds.</span>\n",
       "</pre>\n"
      ],
      "text/plain": [
       "\u001b[1;33m/home/eddie_akers_anchorlabs_com/.local/lib/python3.9/site-packages/google/auth/\u001b[0m\u001b[1;33m_default.py\u001b[0m\u001b[1;33m:\u001b[0m\u001b[1;33m76\u001b[0m\u001b[1;33m UserWarning\u001b[0m\u001b[33m: Your application has authenticated using end user credentials from Google Cloud SDK without a quota project. You might receive a \u001b[0m\u001b[33m\"quota exceeded\"\u001b[0m\u001b[33m or \u001b[0m\u001b[33m\"API not enabled\"\u001b[0m\u001b[33m error. See the following page for troubleshooting: \u001b[0m\u001b[4;33mhttps://cloud.google.com/docs/authentication/adc-troubleshooting/user-creds.\u001b[0m\n"
      ]
     },
     "metadata": {},
     "output_type": "display_data"
    },
    {
     "name": "stdout",
     "output_type": "stream",
     "text": [
      "Data for BTC-USDT-SWAP: {'code': '0', 'data': [{'fundingRate': '0.0000280813574294', 'fundingTime': '1720483200000', 'instId': 'BTC-USDT-SWAP', 'instType': 'SWAP', 'maxFundingRate': '0.00375', 'method': 'current_period', 'minFundingRate': '-0.00375', 'nextFundingRate': '', 'nextFundingTime': '1720512000000', 'premium': '0.0000577544706403', 'settFundingRate': '0.0000173742544987', 'settState': 'settled', 'ts': '1720465155035'}], 'msg': ''}\n"
     ]
    },
    {
     "data": {
      "text/html": [
       "<pre style=\"white-space:pre;overflow-x:auto;line-height:normal;font-family:Menlo,'DejaVu Sans Mono',consolas,'Courier New',monospace\"><span style=\"color: #808000; text-decoration-color: #808000; font-weight: bold\">/tmp/ipykernel_15392/1625052038.py:</span><span style=\"color: #808000; text-decoration-color: #808000; font-weight: bold\">37</span><span style=\"color: #808000; text-decoration-color: #808000; font-weight: bold\"> FutureWarning</span><span style=\"color: #808000; text-decoration-color: #808000\">: The behavior of </span><span style=\"color: #808000; text-decoration-color: #808000\">'to_datetime'</span><span style=\"color: #808000; text-decoration-color: #808000\"> with </span><span style=\"color: #808000; text-decoration-color: #808000\">'unit'</span><span style=\"color: #808000; text-decoration-color: #808000\"> when parsing strings is deprecated. In a future version, strings will be parsed as datetime strings, matching the behavior without a </span><span style=\"color: #808000; text-decoration-color: #808000\">'unit'</span><span style=\"color: #808000; text-decoration-color: #808000\">. To retain the old behavior, explicitly cast ints or floats to numeric type before calling to_datetime.</span>\n",
       "</pre>\n"
      ],
      "text/plain": [
       "\u001b[1;33m/tmp/ipykernel_15392/\u001b[0m\u001b[1;33m1625052038.py\u001b[0m\u001b[1;33m:\u001b[0m\u001b[1;33m37\u001b[0m\u001b[1;33m FutureWarning\u001b[0m\u001b[33m: The behavior of \u001b[0m\u001b[33m'to_datetime'\u001b[0m\u001b[33m with \u001b[0m\u001b[33m'unit'\u001b[0m\u001b[33m when parsing strings is deprecated. In a future version, strings will be parsed as datetime strings, matching the behavior without a \u001b[0m\u001b[33m'unit'\u001b[0m\u001b[33m. To retain the old behavior, explicitly cast ints or floats to numeric type before calling to_datetime.\u001b[0m\n"
      ]
     },
     "metadata": {},
     "output_type": "display_data"
    },
    {
     "data": {
      "text/html": [
       "<pre style=\"white-space:pre;overflow-x:auto;line-height:normal;font-family:Menlo,'DejaVu Sans Mono',consolas,'Courier New',monospace\"><span style=\"color: #808000; text-decoration-color: #808000; font-weight: bold\">/tmp/ipykernel_15392/1625052038.py:</span><span style=\"color: #808000; text-decoration-color: #808000; font-weight: bold\">38</span><span style=\"color: #808000; text-decoration-color: #808000; font-weight: bold\"> FutureWarning</span><span style=\"color: #808000; text-decoration-color: #808000\">: The behavior of </span><span style=\"color: #808000; text-decoration-color: #808000\">'to_datetime'</span><span style=\"color: #808000; text-decoration-color: #808000\"> with </span><span style=\"color: #808000; text-decoration-color: #808000\">'unit'</span><span style=\"color: #808000; text-decoration-color: #808000\"> when parsing strings is deprecated. In a future version, strings will be parsed as datetime strings, matching the behavior without a </span><span style=\"color: #808000; text-decoration-color: #808000\">'unit'</span><span style=\"color: #808000; text-decoration-color: #808000\">. To retain the old behavior, explicitly cast ints or floats to numeric type before calling to_datetime.</span>\n",
       "</pre>\n"
      ],
      "text/plain": [
       "\u001b[1;33m/tmp/ipykernel_15392/\u001b[0m\u001b[1;33m1625052038.py\u001b[0m\u001b[1;33m:\u001b[0m\u001b[1;33m38\u001b[0m\u001b[1;33m FutureWarning\u001b[0m\u001b[33m: The behavior of \u001b[0m\u001b[33m'to_datetime'\u001b[0m\u001b[33m with \u001b[0m\u001b[33m'unit'\u001b[0m\u001b[33m when parsing strings is deprecated. In a future version, strings will be parsed as datetime strings, matching the behavior without a \u001b[0m\u001b[33m'unit'\u001b[0m\u001b[33m. To retain the old behavior, explicitly cast ints or floats to numeric type before calling to_datetime.\u001b[0m\n"
      ]
     },
     "metadata": {},
     "output_type": "display_data"
    },
    {
     "data": {
      "text/html": [
       "<pre style=\"white-space:pre;overflow-x:auto;line-height:normal;font-family:Menlo,'DejaVu Sans Mono',consolas,'Courier New',monospace\"><span style=\"color: #808000; text-decoration-color: #808000; font-weight: bold\">/tmp/ipykernel_15392/1625052038.py:</span><span style=\"color: #808000; text-decoration-color: #808000; font-weight: bold\">41</span><span style=\"color: #808000; text-decoration-color: #808000; font-weight: bold\"> FutureWarning</span><span style=\"color: #808000; text-decoration-color: #808000\">: The behavior of </span><span style=\"color: #808000; text-decoration-color: #808000\">'to_datetime'</span><span style=\"color: #808000; text-decoration-color: #808000\"> with </span><span style=\"color: #808000; text-decoration-color: #808000\">'unit'</span><span style=\"color: #808000; text-decoration-color: #808000\"> when parsing strings is deprecated. In a future version, strings will be parsed as datetime strings, matching the behavior without a </span><span style=\"color: #808000; text-decoration-color: #808000\">'unit'</span><span style=\"color: #808000; text-decoration-color: #808000\">. To retain the old behavior, explicitly cast ints or floats to numeric type before calling to_datetime.</span>\n",
       "</pre>\n"
      ],
      "text/plain": [
       "\u001b[1;33m/tmp/ipykernel_15392/\u001b[0m\u001b[1;33m1625052038.py\u001b[0m\u001b[1;33m:\u001b[0m\u001b[1;33m41\u001b[0m\u001b[1;33m FutureWarning\u001b[0m\u001b[33m: The behavior of \u001b[0m\u001b[33m'to_datetime'\u001b[0m\u001b[33m with \u001b[0m\u001b[33m'unit'\u001b[0m\u001b[33m when parsing strings is deprecated. In a future version, strings will be parsed as datetime strings, matching the behavior without a \u001b[0m\u001b[33m'unit'\u001b[0m\u001b[33m. To retain the old behavior, explicitly cast ints or floats to numeric type before calling to_datetime.\u001b[0m\n"
      ]
     },
     "metadata": {},
     "output_type": "display_data"
    },
    {
     "name": "stdout",
     "output_type": "stream",
     "text": [
      "Data for ETH-USDT-SWAP: {'code': '0', 'data': [{'fundingRate': '0.0000421348748840', 'fundingTime': '1720483200000', 'instId': 'ETH-USDT-SWAP', 'instType': 'SWAP', 'maxFundingRate': '0.0075', 'method': 'current_period', 'minFundingRate': '-0.0075', 'nextFundingRate': '', 'nextFundingTime': '1720512000000', 'premium': '0.0001722016397609', 'settFundingRate': '0.0000529455345788', 'settState': 'settled', 'ts': '1720465155057'}], 'msg': ''}\n",
      "Data for SOL-USDT-SWAP: {'code': '0', 'data': [{'fundingRate': '0.0001954045493851', 'fundingTime': '1720483200000', 'instId': 'SOL-USDT-SWAP', 'instType': 'SWAP', 'maxFundingRate': '0.015', 'method': 'current_period', 'minFundingRate': '-0.015', 'nextFundingRate': '', 'nextFundingTime': '1720512000000', 'premium': '0.0000362871035634', 'settFundingRate': '0.0001472245024564', 'settState': 'settled', 'ts': '1720465155307'}], 'msg': ''}\n",
      "Data for XRP-USDT-SWAP: {'code': '0', 'data': [{'fundingRate': '0.0000738637357989', 'fundingTime': '1720483200000', 'instId': 'XRP-USDT-SWAP', 'instType': 'SWAP', 'maxFundingRate': '0.0075', 'method': 'current_period', 'minFundingRate': '-0.0075', 'nextFundingRate': '', 'nextFundingTime': '1720512000000', 'premium': '-0.0001162250116225', 'settFundingRate': '0.0001590891510015', 'settState': 'settled', 'ts': '1720465155173'}], 'msg': ''}\n",
      "Message posted to Slack successfully.\n"
     ]
    },
    {
     "data": {
      "text/html": [
       "<pre style=\"white-space:pre;overflow-x:auto;line-height:normal;font-family:Menlo,'DejaVu Sans Mono',consolas,'Courier New',monospace\"><span style=\"color: #808000; text-decoration-color: #808000; font-weight: bold\">/home/eddie_akers_anchorlabs_com/.local/lib/python3.9/site-packages/google/auth/_default.py:</span><span style=\"color: #808000; text-decoration-color: #808000; font-weight: bold\">76</span><span style=\"color: #808000; text-decoration-color: #808000; font-weight: bold\"> UserWarning</span><span style=\"color: #808000; text-decoration-color: #808000\">: Your application has authenticated using end user credentials from Google Cloud SDK without a quota project. You might receive a </span><span style=\"color: #808000; text-decoration-color: #808000\">\"quota exceeded\"</span><span style=\"color: #808000; text-decoration-color: #808000\"> or </span><span style=\"color: #808000; text-decoration-color: #808000\">\"API not enabled\"</span><span style=\"color: #808000; text-decoration-color: #808000\"> error. See the following page for troubleshooting: </span><span style=\"color: #808000; text-decoration-color: #808000; text-decoration: underline\">https://cloud.google.com/docs/authentication/adc-troubleshooting/user-creds.</span>\n",
       "</pre>\n"
      ],
      "text/plain": [
       "\u001b[1;33m/home/eddie_akers_anchorlabs_com/.local/lib/python3.9/site-packages/google/auth/\u001b[0m\u001b[1;33m_default.py\u001b[0m\u001b[1;33m:\u001b[0m\u001b[1;33m76\u001b[0m\u001b[1;33m UserWarning\u001b[0m\u001b[33m: Your application has authenticated using end user credentials from Google Cloud SDK without a quota project. You might receive a \u001b[0m\u001b[33m\"quota exceeded\"\u001b[0m\u001b[33m or \u001b[0m\u001b[33m\"API not enabled\"\u001b[0m\u001b[33m error. See the following page for troubleshooting: \u001b[0m\u001b[4;33mhttps://cloud.google.com/docs/authentication/adc-troubleshooting/user-creds.\u001b[0m\n"
      ]
     },
     "metadata": {},
     "output_type": "display_data"
    }
   ],
   "source": [
    "os.environ[\"GOOGLE_SHEET_KEY\"] = \"projects/375663101687/secrets/trading_gsheet_auth_token/versions/1\"\n",
    "google_sheet_key = aql_utils.read_secret(os.environ.get(\"GOOGLE_SHEET_KEY\"))\n",
    "gsheet_key = json.loads(google_sheet_key)\n",
    "worksheet_name = \"Cornerstone_GS\"\n",
    "tab_name = \"fundingRateAlerts\"\n",
    "gsu = aql_google_sheet_utility.GoogleSheetUtility(gsheet_key, worksheet_name)\n",
    "\n",
    "alerts_df = gsu._get_current_sheet_df(tab_name, 0)\n",
    "\n",
    "cryptos = alerts_df['coin'].tolist()\n",
    "\n",
    "# Define your list of cryptos and suffix\n",
    "cryptos = cryptos  # Example cryptos\n",
    "suffix = '-USDT-SWAP'\n",
    "symbols = [crypto + suffix for crypto in cryptos]\n",
    "\n",
    "# Fetch the funding rates\n",
    "funding_rates_df = fetch_funding_rates(symbols)\n",
    "\n",
    "# Example alerts_df (make sure it contains the actual alert settings)\n",
    "\n",
    "# Define your Slack webhook URL (replace with your actual webhook URL)\n",
    "#slack_webhook_url = ''\n",
    "\n",
    "#To do - fetch value from secret manager\n",
    "\n",
    "# Check funding rates and send alerts if needed\n",
    "check_and_alert(funding_rates_df, alerts_df, slack_webhook_url)\n",
    "\n",
    "os.environ[\"GOOGLE_SHEET_KEY\"] = \"projects/375663101687/secrets/trading_gsheet_auth_token/versions/1\"\n",
    "google_sheet_key = aql_utils.read_secret(os.environ.get(\"GOOGLE_SHEET_KEY\"))\n",
    "gsheet_key = json.loads(google_sheet_key)\n",
    "worksheet_name = \"Cornerstone_GS\"\n",
    "tab_name = \"fundingRateData\"\n",
    "\n",
    "\n",
    "gsu = aql_google_sheet_utility.GoogleSheetUtility(gsheet_key, worksheet_name)\n",
    "gsu.dump_current_sheet(tab_name, funding_rates_df)\n"
   ]
  },
  {
   "cell_type": "code",
   "execution_count": null,
   "metadata": {},
   "outputs": [],
   "source": []
  }
 ],
 "metadata": {
  "kernelspec": {
   "display_name": "usr",
   "language": "python",
   "name": "python3"
  },
  "language_info": {
   "codemirror_mode": {
    "name": "ipython",
    "version": 3
   },
   "file_extension": ".py",
   "mimetype": "text/x-python",
   "name": "python",
   "nbconvert_exporter": "python",
   "pygments_lexer": "ipython3",
   "version": "3.9.2"
  }
 },
 "nbformat": 4,
 "nbformat_minor": 2
}
