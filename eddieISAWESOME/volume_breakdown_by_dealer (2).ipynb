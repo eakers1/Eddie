{
 "cells": [
  {
   "cell_type": "markdown",
   "id": "f4e6558d",
   "metadata": {},
   "source": [
    "<font face = \"Times New Roman\">\n",
    "\n",
    "# ***Volume per dealer notebook*** \n",
    "\n",
    "### ***This notebook is used for checking dealers volume split for a big order*** \n",
    "\n",
    "\n",
    "<font>"
   ]
  },
  {
   "cell_type": "code",
   "execution_count": 1,
   "id": "c950a43f-a692-4067-8d6d-8d603734a462",
   "metadata": {},
   "outputs": [],
   "source": [
    "import pandas as pd\n",
    "import numpy as np\n",
    "import importlib\n",
    "import datetime as dt\n",
    "import requests\n",
    "import sys\n",
    "import os\n",
    "import logging\n",
    "import time\n",
    "\n",
    "sys.path.append(os.environ[\"HOME\"]+\"/trading/python/lib\")\n",
    "import talos_utils\n",
    "import keys_utils as keys \n",
    "\n"
   ]
  },
  {
   "cell_type": "code",
   "execution_count": 2,
   "id": "62b97477",
   "metadata": {},
   "outputs": [
    {
     "name": "stderr",
     "output_type": "stream",
     "text": [
      "/home/eddie_akers_anchorlabs_com/.local/lib/python3.9/site-packages/google/auth/_default.py:76: UserWarning: Your application has authenticated using end user credentials from Google Cloud SDK without a quota project. You might receive a \"quota exceeded\" or \"API not enabled\" error. See the following page for troubleshooting: https://cloud.google.com/docs/authentication/adc-troubleshooting/user-creds. \n",
      "  warnings.warn(_CLOUD_SDK_CREDENTIALS_WARNING)\n"
     ]
    }
   ],
   "source": [
    "# Talos client init\n",
    "\n",
    "# Talos principal client init\n",
    "talos_api = keys.talos_principal_api_key()\n",
    "talos_secret_api = keys.talos_principal_api_secret()\n",
    "host = keys.talos_principal_host()\n",
    "talos = talos_utils.Talos(talos_api, talos_secret_api, host)\n",
    "\n",
    "# Talos whitelabel client init\n",
    "talos_whitelabel_api = keys.talos_whitelabel_api_key()\n",
    "talos_whitelabel_secret_api = keys.talos_whitelabel_api_secret()\n",
    "host_whitelabel_host = keys.talos_whitelabel_host()\n",
    "talos_wl = talos_utils.Talos(talos_whitelabel_api, talos_whitelabel_secret_api, host_whitelabel_host)\n"
   ]
  },
  {
   "cell_type": "markdown",
   "id": "8a934dbd",
   "metadata": {},
   "source": [
    "<font face = \"Times New Roman\">\n",
    "\n",
    "\n",
    "### ***Input*** \n",
    "\n",
    "#### 1. Order ID List \n",
    "#### 2. Cutoff time for numbers checking. This is in Easter timezone\n",
    "#### 3. Talos env, \"a1\" or \"hold\"  \n",
    "\n",
    "\n",
    "<font>"
   ]
  },
  {
   "cell_type": "code",
   "execution_count": 21,
   "id": "6c88f499",
   "metadata": {},
   "outputs": [],
   "source": [
    "all_orders = [\n",
    "'40e08590-b6de-48b3-9750-851fb80353e3',\n",
    "'630996e3-b926-445c-82df-4d9417ca701d']\n",
    "\n",
    "\n",
    " # input all order ID into the list, use Microstrategy as an example here\n",
    "dealer_cutoff_start = dt.datetime(2025, 3, 26, 8, 0, 0, 0) # in EST\n",
    "dealer_cutoff_end = dt.datetime(2025, 6, 21, 22, 0, 0, 0)  # in EST\n",
    "env = \"hold\"   # or \"a1\"``"
   ]
  },
  {
   "cell_type": "code",
   "execution_count": 22,
   "id": "83af2520-b1c9-4a7a-8316-cac0e7cf6bef",
   "metadata": {},
   "outputs": [],
   "source": [
    "def multi_order_fills(all_orders,talos_env):\n",
    "    combined_df = pd.DataFrame()  # Initialize an empty dataframe to store the combined data\n",
    "    for identifier in all_orders:\n",
    "        # Call run_function for each identifier and get the dataframe\n",
    "        try:\n",
    "            df = talos_env.get_trade_fills(order_id=identifier)\n",
    "            df['Amount'] = df['Amount'].astype(float)\n",
    "            df['Fee'] = df['Fee'].astype(float)\n",
    "            df['Quantity'] = df['Quantity'].astype(float)\n",
    "            df[\"amount_less_fees\"] = df[\"Amount\"] - df[\"Fee\"]\n",
    "            # Concatenate the dataframe to the combined dataframe\n",
    "            combined_df = pd.concat([combined_df, df], ignore_index=True)\n",
    "            time.sleep(0.100)\n",
    "        except Exception as e:\n",
    "            err_str = f\"ERROR during get_trade_fills for orderID {identifier}: {str(e)}\\n\\n\"\n",
    "            print(err_str)\n",
    "    return combined_df\n",
    "\n",
    "def fills_by_dealer(df, dealer_cutoff_start=None, dealer_cutoff_end=None):\n",
    " \n",
    "    if dealer_cutoff_start and dealer_cutoff_end is not None:\n",
    "        filtered_df = df.loc[(df['Timestamp'] >= dealer_cutoff_start)\n",
    "                             & (df['Timestamp'] < dealer_cutoff_end)]\n",
    "    else:\n",
    "        filtered_df = df\n",
    "    # Group by dealer\n",
    "    df_by_dealer = filtered_df.groupby(\"Market\")[[\"amount_less_fees\", \"Quantity\"]].sum().reset_index()\n",
    "    df_count = filtered_df.groupby(\"Market\")[\"OrderID\"].count().reset_index()\n",
    "    df_count.rename(columns={\"OrderID\": \"fill_count\"})\n",
    "    \n",
    "    pd.options.display.float_format = '{:,.8f}'.format\n",
    "    amount = filtered_df['amount_less_fees'].sum()\n",
    "    qty = filtered_df['Quantity'].sum() \n",
    "\n",
    "    summary_str = f\"Amount: ${amount:,.4f} \\nQuantity: {qty:,.4f}\\n\"\n",
    "    summary_df = df_by_dealer.merge(df_count)\n",
    "    return filtered_df, summary_str, summary_df"
   ]
  },
  {
   "cell_type": "code",
   "execution_count": 23,
   "id": "61b7a24d-c30b-49ca-af03-7702f23f9d09",
   "metadata": {},
   "outputs": [
    {
     "name": "stdout",
     "output_type": "stream",
     "text": [
      "Amount: $149,954,576.4492 \n",
      "Quantity: 1,728.4145\n",
      "\n"
     ]
    },
    {
     "data": {
      "text/html": [
       "<div>\n",
       "<style scoped>\n",
       "    .dataframe tbody tr th:only-of-type {\n",
       "        vertical-align: middle;\n",
       "    }\n",
       "\n",
       "    .dataframe tbody tr th {\n",
       "        vertical-align: top;\n",
       "    }\n",
       "\n",
       "    .dataframe thead th {\n",
       "        text-align: right;\n",
       "    }\n",
       "</style>\n",
       "<table border=\"1\" class=\"dataframe\">\n",
       "  <thead>\n",
       "    <tr style=\"text-align: right;\">\n",
       "      <th></th>\n",
       "      <th>amount_less_fees</th>\n",
       "      <th>quantity</th>\n",
       "      <th>fill_count</th>\n",
       "      <th>win_rate</th>\n",
       "    </tr>\n",
       "    <tr>\n",
       "      <th>Market</th>\n",
       "      <th></th>\n",
       "      <th></th>\n",
       "      <th></th>\n",
       "      <th></th>\n",
       "    </tr>\n",
       "  </thead>\n",
       "  <tbody>\n",
       "    <tr>\n",
       "      <th>cumberland</th>\n",
       "      <td>21,435,486.13920575</td>\n",
       "      <td>247.19444942</td>\n",
       "      <td>1,926.00000000</td>\n",
       "      <td>0.14301803</td>\n",
       "    </tr>\n",
       "    <tr>\n",
       "      <th>galaxy</th>\n",
       "      <td>37,207,508.49369272</td>\n",
       "      <td>428.34146832</td>\n",
       "      <td>2,584.00000000</td>\n",
       "      <td>0.24782334</td>\n",
       "    </tr>\n",
       "    <tr>\n",
       "      <th>janestreet</th>\n",
       "      <td>52,102,367.29282686</td>\n",
       "      <td>601.13708114</td>\n",
       "      <td>6,347.00000000</td>\n",
       "      <td>0.34779682</td>\n",
       "    </tr>\n",
       "    <tr>\n",
       "      <th>nonco</th>\n",
       "      <td>34,534,984.89347900</td>\n",
       "      <td>397.89747200</td>\n",
       "      <td>1,301.00000000</td>\n",
       "      <td>0.23020951</td>\n",
       "    </tr>\n",
       "    <tr>\n",
       "      <th>wintermute</th>\n",
       "      <td>4,674,229.63000000</td>\n",
       "      <td>53.84406680</td>\n",
       "      <td>584.00000000</td>\n",
       "      <td>0.03115229</td>\n",
       "    </tr>\n",
       "    <tr>\n",
       "      <th>TOTAL</th>\n",
       "      <td>149,954,576.44920433</td>\n",
       "      <td>1,728.41453768</td>\n",
       "      <td>12,742.00000000</td>\n",
       "      <td>1.00000000</td>\n",
       "    </tr>\n",
       "  </tbody>\n",
       "</table>\n",
       "</div>"
      ],
      "text/plain": [
       "               amount_less_fees       quantity      fill_count   win_rate\n",
       "Market                                                                   \n",
       "cumberland  21,435,486.13920575   247.19444942  1,926.00000000 0.14301803\n",
       "galaxy      37,207,508.49369272   428.34146832  2,584.00000000 0.24782334\n",
       "janestreet  52,102,367.29282686   601.13708114  6,347.00000000 0.34779682\n",
       "nonco       34,534,984.89347900   397.89747200  1,301.00000000 0.23020951\n",
       "wintermute   4,674,229.63000000    53.84406680    584.00000000 0.03115229\n",
       "TOTAL      149,954,576.44920433 1,728.41453768 12,742.00000000 1.00000000"
      ]
     },
     "execution_count": 23,
     "metadata": {},
     "output_type": "execute_result"
    }
   ],
   "source": [
    "talos_env = talos if env == \"hold\" else talos_wl\n",
    "combined_df = multi_order_fills(all_orders,talos_env)\n",
    "filtered_df, summary_str, summary_df = fills_by_dealer(combined_df, dealer_cutoff_start, dealer_cutoff_end)\n",
    "print(summary_str)\n",
    "summary_df = summary_df.set_index('Market')\n",
    "summary_df = summary_df.rename(columns={'OrderID': 'fill_count', 'Quantity': 'quantity'})\n",
    "summary_df.loc[\"TOTAL\"] = summary_df.sum()\n",
    "summary_df[\"win_rate\"] = summary_df[\"quantity\"] / summary_df.loc[\"TOTAL\", \"quantity\"]\n",
    "\n",
    "summary_df"
   ]
  },
  {
   "cell_type": "code",
   "execution_count": 24,
   "id": "5526e5a2",
   "metadata": {},
   "outputs": [
    {
     "data": {
      "text/plain": [
       "amount_less_fees   299,909,152.89840865\n",
       "quantity                 3,456.82907536\n",
       "fill_count              25,484.00000000\n",
       "win_rate                     2.00000000\n",
       "dtype: float64"
      ]
     },
     "execution_count": 24,
     "metadata": {},
     "output_type": "execute_result"
    }
   ],
   "source": [
    "summary_df.sum()"
   ]
  },
  {
   "cell_type": "code",
   "execution_count": null,
   "id": "8802f1d8",
   "metadata": {},
   "outputs": [],
   "source": []
  },
  {
   "cell_type": "code",
   "execution_count": null,
   "id": "09eb8823",
   "metadata": {},
   "outputs": [],
   "source": []
  },
  {
   "cell_type": "code",
   "execution_count": null,
   "id": "1d26e065",
   "metadata": {},
   "outputs": [],
   "source": []
  },
  {
   "cell_type": "code",
   "execution_count": null,
   "id": "187fa69b",
   "metadata": {},
   "outputs": [],
   "source": []
  }
 ],
 "metadata": {
  "kernelspec": {
   "display_name": "usr",
   "language": "python",
   "name": "python3"
  },
  "language_info": {
   "codemirror_mode": {
    "name": "ipython",
    "version": 3
   },
   "file_extension": ".py",
   "mimetype": "text/x-python",
   "name": "python",
   "nbconvert_exporter": "python",
   "pygments_lexer": "ipython3",
   "version": "3.9.2"
  }
 },
 "nbformat": 4,
 "nbformat_minor": 5
}
