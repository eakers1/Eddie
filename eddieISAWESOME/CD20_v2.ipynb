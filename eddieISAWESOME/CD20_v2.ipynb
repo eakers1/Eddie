{
 "cells": [
  {
   "cell_type": "code",
   "execution_count": 4,
   "metadata": {},
   "outputs": [],
   "source": [
    "import datetime as dt\n",
    "import json\n",
    "import pandas as pd # type: ignore\n",
    "import numpy as np # type: ignore\n",
    "import re\n",
    "import os\n",
    "import time\n",
    "import sys\n",
    "import logging\n",
    "from google.cloud import bigquery\n",
    "import warnings\n",
    "\n",
    "\n",
    "sys.path.insert(0,os.environ[\"HOME\"]+\"/trading/python/\")\n",
    "from lib import aplo # type: ignore\n",
    "from lib import talos_utils # type: ignore\n",
    "from lib import vault_utils # type: ignore\n",
    "\n",
    "sys.path.append(os.environ[\"HOME\"] + \"/anchorage/source/python/lib/quant_lib/anchoragequantlib\")\n",
    "import google_sheet_utility as aql_google_sheet_utility # type: ignore\n",
    "import utils as aql_utils # type: ignore\n",
    "\n",
    "sys.path.append(os.environ[\"HOME\"]+\"/trading/keys/\")\n",
    "import keys\n",
    "\n",
    "logging.getLogger().setLevel(logging.INFO)\n",
    "pd.set_option('display.max_rows', 50)\n",
    "pd.set_option('display.max_columns', None)\n",
    "pd.options.display.float_format = '{:,.8f}'.format\n",
    "warnings.filterwarnings(\"ignore\", category=UserWarning)"
   ]
  },
  {
   "cell_type": "code",
   "execution_count": 5,
   "metadata": {},
   "outputs": [],
   "source": [
    "sys.path.append(os.path.expanduser(\"~\") + \"/anchorage/source/python/trading/agency_desk\")\n",
    "from lib import talos_utils\n",
    "\n",
    "sys.path.append(os.environ[\"HOME\"] + \"/anchorage/source/python/lib/quant_lib/anchoragequantlib\")\n",
    "import google_sheet_utility as aql_google_sheet_utility # type: ignore\n",
    "import utils as aql_utils # type: ignore\n",
    "\n",
    "\n",
    "pd.set_option('display.max_rows', 50)\n",
    "pd.set_option('display.max_columns', None)\n",
    "pd.options.display.float_format = '{:,.8f}'.format\n",
    "\n",
    "api_key = 'ANC34AV1RAK2'\n",
    "api_secret = 'mj9a70zpeve9rnam55kn0ql6c7sze3gw'\n",
    "\n",
    "talos_wl_api = 'ANC34AV1RAK2'\n",
    "talos_wl_secret_api = 'mj9a70zpeve9rnam55kn0ql6c7sze3gw'\n",
    "utc_now = datetime.datetime.utcnow()\n",
    "utc_datetime = utc_now.strftime(\"%Y-%m-%dT%H:%M:%S.000000Z\")\n",
    "\n",
    "talos_api = 'ANCHJEWQR3YH'\n",
    "talos_secret = '3c4nnc7lg7mfg2ae2irz5kkueeei37pz'\n",
    "\n",
    "host = \"tal-42.prod.talostrading.com\"\n",
    "host_wl = \"tal-160.prod.talostrading.com\"\n",
    "\n",
    "talos = talos_utils.Talos(talos_api, talos_secret, host)\n",
    "talos_wl = talos_utils.Talos(talos_wl_api, talos_wl_secret_api, host_wl)\n",
    "\n"
   ]
  },
  {
   "cell_type": "code",
   "execution_count": 6,
   "metadata": {},
   "outputs": [],
   "source": [
    "\n"
   ]
  },
  {
   "cell_type": "code",
   "execution_count": 11,
   "metadata": {},
   "outputs": [],
   "source": [
    "os.environ[\"GOOGLE_SHEET_KEY\"] = \"projects/375663101687/secrets/trading_gsheet_auth_token/versions/1\"\n",
    "google_sheet_key = aql_utils.read_secret(os.environ.get(\"GOOGLE_SHEET_KEY\"))\n",
    "gsheet_key = json.loads(google_sheet_key)\n",
    "worksheet_name = \"MSTR Trading Dashboard\"\n",
    "tab_name = \"stream\"\n",
    "gsu = aql_google_sheet_utility.GoogleSheetUtility(gsheet_key, worksheet_name)\n",
    "dealers = ['cumberland']"
   ]
  },
  {
   "cell_type": "code",
   "execution_count": 25,
   "metadata": {},
   "outputs": [
    {
     "name": "stdout",
     "output_type": "stream",
     "text": [
      "[\u001b[34m2025-01-22T02:30:45.341+0000\u001b[0m] {\u001b[34mtalos_utils.py:\u001b[0m260} INFO\u001b[0m - Fetching for BTC-USD on [] and ['cumberland'] | {'LiquidityType': 'Firm', 'AmountBuckets': '1'}\u001b[0m\n",
      "Error for asset BTC-USD\n"
     ]
    },
    {
     "data": {
      "text/plain": [
       "[      coin  bid_price  mid_price  offer_price  spread_bps  bid_bps  ask_bps\n",
       " 0  BTC-USD        NaN        NaN          NaN         NaN      NaN      NaN]"
      ]
     },
     "metadata": {},
     "output_type": "display_data"
    },
    {
     "ename": "ValueError",
     "evalue": "Must pass 2-d input. shape=(1, 1, 7)",
     "output_type": "error",
     "traceback": [
      "\u001b[0;31m---------------------------------------------------------------------------\u001b[0m",
      "\u001b[0;31mValueError\u001b[0m                                Traceback (most recent call last)",
      "\u001b[0;32m/tmp/ipykernel_130285/3462108328.py\u001b[0m in \u001b[0;36m<module>\u001b[0;34m\u001b[0m\n\u001b[1;32m     73\u001b[0m \u001b[0;34m\u001b[0m\u001b[0m\n\u001b[1;32m     74\u001b[0m \u001b[0mdisplay\u001b[0m\u001b[0;34m(\u001b[0m\u001b[0mquote_results\u001b[0m\u001b[0;34m)\u001b[0m\u001b[0;34m\u001b[0m\u001b[0;34m\u001b[0m\u001b[0m\n\u001b[0;32m---> 75\u001b[0;31m \u001b[0mdf\u001b[0m \u001b[0;34m=\u001b[0m \u001b[0mpd\u001b[0m\u001b[0;34m.\u001b[0m\u001b[0mDataFrame\u001b[0m\u001b[0;34m(\u001b[0m\u001b[0mquote_results\u001b[0m\u001b[0;34m)\u001b[0m\u001b[0;34m\u001b[0m\u001b[0;34m\u001b[0m\u001b[0m\n\u001b[0m\u001b[1;32m     76\u001b[0m \u001b[0;34m\u001b[0m\u001b[0m\n\u001b[1;32m     77\u001b[0m \u001b[0;34m\u001b[0m\u001b[0m\n",
      "\u001b[0;32m~/.local/lib/python3.9/site-packages/pandas/core/frame.py\u001b[0m in \u001b[0;36m__init__\u001b[0;34m(self, data, index, columns, dtype, copy)\u001b[0m\n\u001b[1;32m    865\u001b[0m                     )\n\u001b[1;32m    866\u001b[0m                 \u001b[0;32melse\u001b[0m\u001b[0;34m:\u001b[0m\u001b[0;34m\u001b[0m\u001b[0;34m\u001b[0m\u001b[0m\n\u001b[0;32m--> 867\u001b[0;31m                     mgr = ndarray_to_mgr(\n\u001b[0m\u001b[1;32m    868\u001b[0m                         \u001b[0mdata\u001b[0m\u001b[0;34m,\u001b[0m\u001b[0;34m\u001b[0m\u001b[0;34m\u001b[0m\u001b[0m\n\u001b[1;32m    869\u001b[0m                         \u001b[0mindex\u001b[0m\u001b[0;34m,\u001b[0m\u001b[0;34m\u001b[0m\u001b[0;34m\u001b[0m\u001b[0m\n",
      "\u001b[0;32m~/.local/lib/python3.9/site-packages/pandas/core/internals/construction.py\u001b[0m in \u001b[0;36mndarray_to_mgr\u001b[0;34m(values, index, columns, dtype, copy, typ)\u001b[0m\n\u001b[1;32m    317\u001b[0m         \u001b[0;31m# by definition an array here\u001b[0m\u001b[0;34m\u001b[0m\u001b[0;34m\u001b[0m\u001b[0;34m\u001b[0m\u001b[0m\n\u001b[1;32m    318\u001b[0m         \u001b[0;31m# the dtypes will be coerced to a single dtype\u001b[0m\u001b[0;34m\u001b[0m\u001b[0;34m\u001b[0m\u001b[0;34m\u001b[0m\u001b[0m\n\u001b[0;32m--> 319\u001b[0;31m         \u001b[0mvalues\u001b[0m \u001b[0;34m=\u001b[0m \u001b[0m_prep_ndarraylike\u001b[0m\u001b[0;34m(\u001b[0m\u001b[0mvalues\u001b[0m\u001b[0;34m,\u001b[0m \u001b[0mcopy\u001b[0m\u001b[0;34m=\u001b[0m\u001b[0mcopy_on_sanitize\u001b[0m\u001b[0;34m)\u001b[0m\u001b[0;34m\u001b[0m\u001b[0;34m\u001b[0m\u001b[0m\n\u001b[0m\u001b[1;32m    320\u001b[0m \u001b[0;34m\u001b[0m\u001b[0m\n\u001b[1;32m    321\u001b[0m     \u001b[0;32mif\u001b[0m \u001b[0mdtype\u001b[0m \u001b[0;32mis\u001b[0m \u001b[0;32mnot\u001b[0m \u001b[0;32mNone\u001b[0m \u001b[0;32mand\u001b[0m \u001b[0mvalues\u001b[0m\u001b[0;34m.\u001b[0m\u001b[0mdtype\u001b[0m \u001b[0;34m!=\u001b[0m \u001b[0mdtype\u001b[0m\u001b[0;34m:\u001b[0m\u001b[0;34m\u001b[0m\u001b[0;34m\u001b[0m\u001b[0m\n",
      "\u001b[0;32m~/.local/lib/python3.9/site-packages/pandas/core/internals/construction.py\u001b[0m in \u001b[0;36m_prep_ndarraylike\u001b[0;34m(values, copy)\u001b[0m\n\u001b[1;32m    580\u001b[0m         \u001b[0mvalues\u001b[0m \u001b[0;34m=\u001b[0m \u001b[0mconvert\u001b[0m\u001b[0;34m(\u001b[0m\u001b[0mvalues\u001b[0m\u001b[0;34m)\u001b[0m\u001b[0;34m\u001b[0m\u001b[0;34m\u001b[0m\u001b[0m\n\u001b[1;32m    581\u001b[0m \u001b[0;34m\u001b[0m\u001b[0m\n\u001b[0;32m--> 582\u001b[0;31m     \u001b[0;32mreturn\u001b[0m \u001b[0m_ensure_2d\u001b[0m\u001b[0;34m(\u001b[0m\u001b[0mvalues\u001b[0m\u001b[0;34m)\u001b[0m\u001b[0;34m\u001b[0m\u001b[0;34m\u001b[0m\u001b[0m\n\u001b[0m\u001b[1;32m    583\u001b[0m \u001b[0;34m\u001b[0m\u001b[0m\n\u001b[1;32m    584\u001b[0m \u001b[0;34m\u001b[0m\u001b[0m\n",
      "\u001b[0;32m~/.local/lib/python3.9/site-packages/pandas/core/internals/construction.py\u001b[0m in \u001b[0;36m_ensure_2d\u001b[0;34m(values)\u001b[0m\n\u001b[1;32m    590\u001b[0m         \u001b[0mvalues\u001b[0m \u001b[0;34m=\u001b[0m \u001b[0mvalues\u001b[0m\u001b[0;34m.\u001b[0m\u001b[0mreshape\u001b[0m\u001b[0;34m(\u001b[0m\u001b[0;34m(\u001b[0m\u001b[0mvalues\u001b[0m\u001b[0;34m.\u001b[0m\u001b[0mshape\u001b[0m\u001b[0;34m[\u001b[0m\u001b[0;36m0\u001b[0m\u001b[0;34m]\u001b[0m\u001b[0;34m,\u001b[0m \u001b[0;36m1\u001b[0m\u001b[0;34m)\u001b[0m\u001b[0;34m)\u001b[0m\u001b[0;34m\u001b[0m\u001b[0;34m\u001b[0m\u001b[0m\n\u001b[1;32m    591\u001b[0m     \u001b[0;32melif\u001b[0m \u001b[0mvalues\u001b[0m\u001b[0;34m.\u001b[0m\u001b[0mndim\u001b[0m \u001b[0;34m!=\u001b[0m \u001b[0;36m2\u001b[0m\u001b[0;34m:\u001b[0m\u001b[0;34m\u001b[0m\u001b[0;34m\u001b[0m\u001b[0m\n\u001b[0;32m--> 592\u001b[0;31m         \u001b[0;32mraise\u001b[0m \u001b[0mValueError\u001b[0m\u001b[0;34m(\u001b[0m\u001b[0;34mf\"Must pass 2-d input. shape={values.shape}\"\u001b[0m\u001b[0;34m)\u001b[0m\u001b[0;34m\u001b[0m\u001b[0;34m\u001b[0m\u001b[0m\n\u001b[0m\u001b[1;32m    593\u001b[0m     \u001b[0;32mreturn\u001b[0m \u001b[0mvalues\u001b[0m\u001b[0;34m\u001b[0m\u001b[0;34m\u001b[0m\u001b[0m\n\u001b[1;32m    594\u001b[0m \u001b[0;34m\u001b[0m\u001b[0m\n",
      "\u001b[0;31mValueError\u001b[0m: Must pass 2-d input. shape=(1, 1, 7)"
     ]
    }
   ],
   "source": [
    "def get_size_prices_spread(symbol, exchanges=[], dealers=['cumberland'], liquidity_type=\"Firm\", depth: str = \"VWAP\", **kwargs):\n",
    "\n",
    "    try:\n",
    "        # Assuming talos.get_market_data_feed_v2() retrieves market data\n",
    "        talos_stream = talos.get_market_data_feed_v2(symbol=symbol, exchanges=exchanges, dealers=dealers, LiquidityType=liquidity_type, **kwargs)\n",
    "        #filtered_data = {key: value for key, value in talos_stream.items() if any(d['DepthType'] for d in value)}\n",
    "        filtered_data = {key:value for key, value in talos_stream.items() if sorted(value[0]['Markets'].keys())==sorted(exchanges)}\n",
    "\n",
    "        first_available_key = next(iter(filtered_data))\n",
    "        talos_stream = filtered_data[first_available_key]\n",
    "        \n",
    "        # Extract bid and offer prices\n",
    "        bids = talos_stream[0][\"Bids\"]\n",
    "        offers = talos_stream[0][\"Offers\"]\n",
    "\n",
    "        # Create DataFrame for bid and offer prices\n",
    "        bid_df = pd.DataFrame(bids).T\n",
    "        offer_df = pd.DataFrame(offers).T\n",
    "\n",
    "        # Concatenate bid and offer DataFrames\n",
    "        size_prices = pd.concat([bid_df, offer_df], axis=1)\n",
    "        \n",
    "        # Check if size_prices has only one column\n",
    "        if len(size_prices.columns) == 1:\n",
    "            # Handle the situation where there's only one column\n",
    "            size_prices.columns = [\"Price\"]\n",
    "        else:\n",
    "            # Ensure that the number of columns matches the expected number of elements in the column names list\n",
    "            if len(size_prices.columns) != len([\"Bid\", \"Offer\"]):\n",
    "                # If the number of columns doesn't match, assign generic column names\n",
    "                size_prices.columns = [f\"Column_{i}\" for i in range(len(size_prices.columns))]\n",
    "            else:\n",
    "                # If the number of columns matches, assign the provided column names\n",
    "                size_prices.columns = [\"Bid\", \"Offer\"]\n",
    "\n",
    "        # Convert prices to float\n",
    "        size_prices[[\"Bid\", \"Offer\"]] = size_prices[[\"Bid\", \"Offer\"]].astype(float)\n",
    "\n",
    "        # Calculate mid price and spread\n",
    "        size_prices[\"Mid\"] = (size_prices[\"Bid\"] + size_prices[\"Offer\"]) / 2\n",
    "        size_prices[\"Spread\"] = ((size_prices[\"Offer\"] - size_prices[\"Bid\"]) / size_prices[\"Bid\"]) * 10000\n",
    "        size_prices[\"BidSpread\"] = ((size_prices[\"Mid\"] - size_prices[\"Bid\"]) / size_prices[\"Mid\"]) * 10000\n",
    "        size_prices[\"AskSpread\"] = ((size_prices[\"Offer\"] - size_prices[\"Mid\"]) / size_prices[\"Mid\"]) * 10000\n",
    "\n",
    "        # Select bid, mid, and offer prices for the specified depth\n",
    "        depth_prices = size_prices.loc[depth][[\"Bid\", \"Mid\", \"Offer\",\"Spread\",\"BidSpread\",\"AskSpread\"]]\n",
    "\n",
    "        # Create DataFrame with coin, bid_price, mid price, and offer_price\n",
    "        result_df = pd.DataFrame({\n",
    "            'coin': [symbol],\n",
    "            'bid_price': [depth_prices['Bid']],\n",
    "            'mid_price': [depth_prices['Mid']],\n",
    "            'offer_price': [depth_prices['Offer']],\n",
    "            'spread_bps': [depth_prices['Spread']],\n",
    "            'bid_bps': [depth_prices['BidSpread']],\n",
    "            'ask_bps': [depth_prices['AskSpread']]\n",
    "        })\n",
    "\n",
    "        return result_df\n",
    "    except KeyError:\n",
    "        print(f\"Error for asset {symbol}\")\n",
    "        return pd.DataFrame({'coin': [symbol], 'bid_price': [np.nan], 'mid_price': [np.nan], 'offer_price': [np.nan], 'spread_bps': [np.nan], 'bid_bps': [np.nan], 'ask_bps': [np.nan]})\n",
    "\n",
    "\n",
    "quote_results = []\n",
    "\n",
    "symbol = \"BTC-USD\"\n",
    "#size_buckets = [row['usd_notional']]  # Ensure size_buckets is a list\n",
    "\n",
    "    # Call generate_quotes function with symbol and delta\n",
    "quote_result = get_size_prices_spread(symbol, AmountBuckets=\"1\", liquidity_type=\"Firm\")\n",
    "quote_results.append(quote_result)\n",
    "\n",
    "display(quote_results)\n",
    "df = pd.DataFrame(quote_results)\n",
    "\n",
    "\n",
    "os.environ[\"GOOGLE_SHEET_KEY\"] = \"projects/375663101687/secrets/trading_gsheet_auth_token/versions/1\"\n",
    "google_sheet_key = aql_utils.read_secret(os.environ.get(\"GOOGLE_SHEET_KEY\"))\n",
    "gsheet_key = json.loads(google_sheet_key)\n",
    "worksheet_name = \"MSTR Trading Dashboard\"\n",
    "tab_name = \"stream\"\n",
    "\n",
    "gsu = aql_google_sheet_utility.GoogleSheetUtility(gsheet_key, worksheet_name)\n",
    "gsu.dump_current_sheet(tab_name, quote_results)\n",
    "\n"
   ]
  },
  {
   "cell_type": "code",
   "execution_count": null,
   "metadata": {},
   "outputs": [
    {
     "name": "stdout",
     "output_type": "stream",
     "text": [
      "['04c74be4-6497-4439-bcb8-9b98ffd6e3b6', '7c5f2da4-7a4c-4ef8-a842-d3d00ddec8d3', 'c96c5c12-decc-49b9-b86d-e3f9212b3888', '5e4a3efa-ff04-415c-890b-e92a44d56cf2', '5ae00a3d-9c0c-44ce-a3b6-013ee86d3c55', 'ad35ed7f-7f24-41b3-92b1-39a6d8533dbc', '437d524b-fbfc-40e4-a074-949e28f462e5', 'a059cc2d-a436-48cc-88a3-62f17b2eb708', '0eb64ba3-f34b-4065-8807-2948f833e9f9', '2fe6d6bb-a004-49a8-93f2-7cb0c9643351', '9b0950b1-8eb4-40d7-b4c6-dc5aa4ee5d15', '6374c204-94a2-48c8-a2f0-5ceb8160f06c', '3ce7ef52-536d-4711-a628-dabefb51795f', '55363921-2a52-4f1a-a4e4-46cc162f53bb', 'c9d4991b-282e-4c62-a609-6a6e4810bd38', '9da85b2e-4cf8-47be-a176-ba1f1118de8b', '5992f81b-e046-4dff-a1f3-5d254e12445c', 'f03193b8-d6c6-43cc-8655-ecfa3e2f0bda', 'ac4ac969-be8b-4543-972d-43303b552eea', '8ad0b759-8461-4597-b46d-4aef3109b610', 'aa35f820-0b5d-4457-a86f-3e6d5f980199', '8de3e9ba-33d9-4bef-b84e-b73406bfea89']\n"
     ]
    },
    {
     "ename": "AttributeError",
     "evalue": "'DataFrame' object has no attribute 'Timestamp'",
     "output_type": "error",
     "traceback": [
      "\u001b[0;31m---------------------------------------------------------------------------\u001b[0m",
      "\u001b[0;31mAttributeError\u001b[0m                            Traceback (most recent call last)",
      "\u001b[0;32m/tmp/ipykernel_41729/937477272.py\u001b[0m in \u001b[0;36m<module>\u001b[0;34m\u001b[0m\n\u001b[1;32m      2\u001b[0m \u001b[0morder_ids\u001b[0m \u001b[0;34m=\u001b[0m \u001b[0;34m[\u001b[0m\u001b[0morder\u001b[0m\u001b[0;34m[\u001b[0m\u001b[0;34m'OrderID'\u001b[0m\u001b[0;34m]\u001b[0m \u001b[0;32mfor\u001b[0m \u001b[0morder\u001b[0m \u001b[0;32min\u001b[0m \u001b[0morders\u001b[0m\u001b[0;34m]\u001b[0m\u001b[0;34m\u001b[0m\u001b[0;34m\u001b[0m\u001b[0m\n\u001b[1;32m      3\u001b[0m \u001b[0mprint\u001b[0m\u001b[0;34m(\u001b[0m\u001b[0morder_ids\u001b[0m\u001b[0;34m)\u001b[0m\u001b[0;34m\u001b[0m\u001b[0;34m\u001b[0m\u001b[0m\n\u001b[0;32m----> 4\u001b[0;31m \u001b[0mtalos\u001b[0m\u001b[0;34m.\u001b[0m\u001b[0mget_trade_fills\u001b[0m\u001b[0;34m(\u001b[0m\u001b[0morder_ids\u001b[0m\u001b[0;34m)\u001b[0m\u001b[0;34m\u001b[0m\u001b[0;34m\u001b[0m\u001b[0m\n\u001b[0m",
      "\u001b[0;32m~/anchorage/source/python/trading/agency_desk/lib/talos_utils.py\u001b[0m in \u001b[0;36mget_trade_fills\u001b[0;34m(self, order_id)\u001b[0m\n\u001b[1;32m    595\u001b[0m         \u001b[0mtrades_list\u001b[0m \u001b[0;34m=\u001b[0m \u001b[0mself\u001b[0m\u001b[0;34m.\u001b[0m\u001b[0mget_trade_by_order_id\u001b[0m\u001b[0;34m(\u001b[0m\u001b[0morder_id\u001b[0m\u001b[0;34m)\u001b[0m\u001b[0;34m\u001b[0m\u001b[0;34m\u001b[0m\u001b[0m\n\u001b[1;32m    596\u001b[0m         \u001b[0mall_trades\u001b[0m \u001b[0;34m=\u001b[0m \u001b[0mpd\u001b[0m\u001b[0;34m.\u001b[0m\u001b[0mDataFrame\u001b[0m\u001b[0;34m(\u001b[0m\u001b[0mtrades_list\u001b[0m\u001b[0;34m)\u001b[0m\u001b[0;34m\u001b[0m\u001b[0;34m\u001b[0m\u001b[0m\n\u001b[0;32m--> 597\u001b[0;31m         \u001b[0mall_trades\u001b[0m\u001b[0;34m.\u001b[0m\u001b[0mTimestamp\u001b[0m \u001b[0;34m=\u001b[0m \u001b[0mpd\u001b[0m\u001b[0;34m.\u001b[0m\u001b[0mto_datetime\u001b[0m\u001b[0;34m(\u001b[0m\u001b[0mall_trades\u001b[0m\u001b[0;34m.\u001b[0m\u001b[0mTimestamp\u001b[0m\u001b[0;34m)\u001b[0m\u001b[0;34m\u001b[0m\u001b[0;34m\u001b[0m\u001b[0m\n\u001b[0m\u001b[1;32m    598\u001b[0m         \u001b[0mall_trades\u001b[0m\u001b[0;34m.\u001b[0m\u001b[0mset_index\u001b[0m\u001b[0;34m(\u001b[0m\u001b[0;34m\"Timestamp\"\u001b[0m\u001b[0;34m,\u001b[0m \u001b[0minplace\u001b[0m\u001b[0;34m=\u001b[0m\u001b[0;32mTrue\u001b[0m\u001b[0;34m)\u001b[0m  \u001b[0;31m# set the Date column as the index\u001b[0m\u001b[0;34m\u001b[0m\u001b[0;34m\u001b[0m\u001b[0m\n\u001b[1;32m    599\u001b[0m         \u001b[0mall_trades\u001b[0m\u001b[0;34m.\u001b[0m\u001b[0mindex\u001b[0m \u001b[0;34m=\u001b[0m \u001b[0mall_trades\u001b[0m\u001b[0;34m.\u001b[0m\u001b[0mindex\u001b[0m\u001b[0;34m.\u001b[0m\u001b[0mtz_convert\u001b[0m\u001b[0;34m(\u001b[0m\u001b[0;34m\"US/Eastern\"\u001b[0m\u001b[0;34m)\u001b[0m\u001b[0;34m.\u001b[0m\u001b[0mtz_localize\u001b[0m\u001b[0;34m(\u001b[0m\u001b[0;32mNone\u001b[0m\u001b[0;34m)\u001b[0m\u001b[0;34m\u001b[0m\u001b[0;34m\u001b[0m\u001b[0m\n",
      "\u001b[0;32m~/.local/lib/python3.9/site-packages/pandas/core/generic.py\u001b[0m in \u001b[0;36m__getattr__\u001b[0;34m(self, name)\u001b[0m\n\u001b[1;32m   6297\u001b[0m         ):\n\u001b[1;32m   6298\u001b[0m             \u001b[0;32mreturn\u001b[0m \u001b[0mself\u001b[0m\u001b[0;34m[\u001b[0m\u001b[0mname\u001b[0m\u001b[0;34m]\u001b[0m\u001b[0;34m\u001b[0m\u001b[0;34m\u001b[0m\u001b[0m\n\u001b[0;32m-> 6299\u001b[0;31m         \u001b[0;32mreturn\u001b[0m \u001b[0mobject\u001b[0m\u001b[0;34m.\u001b[0m\u001b[0m__getattribute__\u001b[0m\u001b[0;34m(\u001b[0m\u001b[0mself\u001b[0m\u001b[0;34m,\u001b[0m \u001b[0mname\u001b[0m\u001b[0;34m)\u001b[0m\u001b[0;34m\u001b[0m\u001b[0;34m\u001b[0m\u001b[0m\n\u001b[0m\u001b[1;32m   6300\u001b[0m \u001b[0;34m\u001b[0m\u001b[0m\n\u001b[1;32m   6301\u001b[0m     \u001b[0;34m@\u001b[0m\u001b[0mfinal\u001b[0m\u001b[0;34m\u001b[0m\u001b[0;34m\u001b[0m\u001b[0m\n",
      "\u001b[0;31mAttributeError\u001b[0m: 'DataFrame' object has no attribute 'Timestamp'"
     ]
    }
   ],
   "source": []
  },
  {
   "cell_type": "code",
   "execution_count": null,
   "metadata": {},
   "outputs": [],
   "source": []
  }
 ],
 "metadata": {
  "kernelspec": {
   "display_name": "usr",
   "language": "python",
   "name": "python3"
  },
  "language_info": {
   "codemirror_mode": {
    "name": "ipython",
    "version": 3
   },
   "file_extension": ".py",
   "mimetype": "text/x-python",
   "name": "python",
   "nbconvert_exporter": "python",
   "pygments_lexer": "ipython3",
   "version": "3.9.2"
  }
 },
 "nbformat": 4,
 "nbformat_minor": 2
}
