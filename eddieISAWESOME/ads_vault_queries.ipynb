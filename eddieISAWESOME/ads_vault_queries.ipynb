{
 "cells": [
  {
   "cell_type": "code",
   "execution_count": null,
   "id": "8109b3ad",
   "metadata": {},
   "outputs": [
    {
     "name": "stderr",
     "output_type": "stream",
     "text": [
      "/tmp/ipykernel_283130/4073470784.py:3: DeprecationWarning: the imp module is deprecated in favour of importlib; see the module's documentation for alternative uses\n",
      "  import imp\n",
      "INFO:root:getting vaults path: https://api.anchorage.com/v2/vaults?limit=100\n"
     ]
    },
    {
     "ename": "SpreadsheetNotFound",
     "evalue": "<Response [200]>",
     "output_type": "error",
     "traceback": [
      "\u001b[0;31m---------------------------------------------------------------------------\u001b[0m",
      "\u001b[0;31mStopIteration\u001b[0m                             Traceback (most recent call last)",
      "\u001b[0;32m~/.local/lib/python3.9/site-packages/gspread/client.py\u001b[0m in \u001b[0;36mopen\u001b[0;34m(self, title, folder_id)\u001b[0m\n\u001b[1;32m    131\u001b[0m         \u001b[0;32mtry\u001b[0m\u001b[0;34m:\u001b[0m\u001b[0;34m\u001b[0m\u001b[0;34m\u001b[0m\u001b[0m\n\u001b[0;32m--> 132\u001b[0;31m             properties = finditem(\n\u001b[0m\u001b[1;32m    133\u001b[0m                 \u001b[0;32mlambda\u001b[0m \u001b[0mx\u001b[0m\u001b[0;34m:\u001b[0m \u001b[0mx\u001b[0m\u001b[0;34m[\u001b[0m\u001b[0;34m\"name\"\u001b[0m\u001b[0;34m]\u001b[0m \u001b[0;34m==\u001b[0m \u001b[0mtitle\u001b[0m\u001b[0;34m,\u001b[0m\u001b[0;34m\u001b[0m\u001b[0;34m\u001b[0m\u001b[0m\n",
      "\u001b[0;32m~/.local/lib/python3.9/site-packages/gspread/utils.py\u001b[0m in \u001b[0;36mfinditem\u001b[0;34m(func, seq)\u001b[0m\n\u001b[1;32m    167\u001b[0m     \u001b[0;34m\"\"\"Finds and returns first item in iterable for which func(item) is True.\"\"\"\u001b[0m\u001b[0;34m\u001b[0m\u001b[0;34m\u001b[0m\u001b[0m\n\u001b[0;32m--> 168\u001b[0;31m     \u001b[0;32mreturn\u001b[0m \u001b[0mnext\u001b[0m\u001b[0;34m(\u001b[0m\u001b[0mitem\u001b[0m \u001b[0;32mfor\u001b[0m \u001b[0mitem\u001b[0m \u001b[0;32min\u001b[0m \u001b[0mseq\u001b[0m \u001b[0;32mif\u001b[0m \u001b[0mfunc\u001b[0m\u001b[0;34m(\u001b[0m\u001b[0mitem\u001b[0m\u001b[0;34m)\u001b[0m\u001b[0;34m)\u001b[0m\u001b[0;34m\u001b[0m\u001b[0;34m\u001b[0m\u001b[0m\n\u001b[0m\u001b[1;32m    169\u001b[0m \u001b[0;34m\u001b[0m\u001b[0m\n",
      "\u001b[0;31mStopIteration\u001b[0m: ",
      "\nThe above exception was the direct cause of the following exception:\n",
      "\u001b[0;31mSpreadsheetNotFound\u001b[0m                       Traceback (most recent call last)",
      "\u001b[0;32m/tmp/ipykernel_283130/4073470784.py\u001b[0m in \u001b[0;36m<module>\u001b[0;34m\u001b[0m\n\u001b[1;32m     72\u001b[0m \u001b[0;34m\u001b[0m\u001b[0m\n\u001b[1;32m     73\u001b[0m \u001b[0mads_balances\u001b[0m \u001b[0;34m=\u001b[0m \u001b[0mget_ads_balances\u001b[0m\u001b[0;34m(\u001b[0m\u001b[0;34m)\u001b[0m\u001b[0;34m\u001b[0m\u001b[0;34m\u001b[0m\u001b[0m\n\u001b[0;32m---> 74\u001b[0;31m \u001b[0mgsu\u001b[0m \u001b[0;34m=\u001b[0m \u001b[0maql_google_sheet_utility\u001b[0m\u001b[0;34m.\u001b[0m\u001b[0mGoogleSheetUtility\u001b[0m\u001b[0;34m(\u001b[0m\u001b[0mgsheet_key\u001b[0m\u001b[0;34m,\u001b[0m \u001b[0mworksheet_name\u001b[0m\u001b[0;34m)\u001b[0m\u001b[0;34m\u001b[0m\u001b[0;34m\u001b[0m\u001b[0m\n\u001b[0m\u001b[1;32m     75\u001b[0m \u001b[0mgsu\u001b[0m\u001b[0;34m.\u001b[0m\u001b[0mdump_current_sheet\u001b[0m\u001b[0;34m(\u001b[0m\u001b[0mtab_name\u001b[0m\u001b[0;34m,\u001b[0m \u001b[0mads_balances\u001b[0m\u001b[0;34m)\u001b[0m\u001b[0;34m\u001b[0m\u001b[0;34m\u001b[0m\u001b[0m\n\u001b[1;32m     76\u001b[0m \u001b[0;34m\u001b[0m\u001b[0m\n",
      "\u001b[0;32m~/anchorage/source/python/lending_recon/src/google_sheet_utility.py\u001b[0m in \u001b[0;36m__init__\u001b[0;34m(self, google_api_key, worksheet_name)\u001b[0m\n\u001b[1;32m     32\u001b[0m \u001b[0;34m\u001b[0m\u001b[0m\n\u001b[1;32m     33\u001b[0m         \u001b[0;31m# set the sheet object since this is used later in many places.\u001b[0m\u001b[0;34m\u001b[0m\u001b[0;34m\u001b[0m\u001b[0;34m\u001b[0m\u001b[0m\n\u001b[0;32m---> 34\u001b[0;31m         \u001b[0mself\u001b[0m\u001b[0;34m.\u001b[0m\u001b[0m_sheet\u001b[0m \u001b[0;34m=\u001b[0m \u001b[0mself\u001b[0m\u001b[0;34m.\u001b[0m\u001b[0m_get_lending_sheet\u001b[0m\u001b[0;34m(\u001b[0m\u001b[0mself\u001b[0m\u001b[0;34m.\u001b[0m\u001b[0m_worksheet_name\u001b[0m\u001b[0;34m)\u001b[0m\u001b[0;34m\u001b[0m\u001b[0;34m\u001b[0m\u001b[0m\n\u001b[0m\u001b[1;32m     35\u001b[0m \u001b[0;34m\u001b[0m\u001b[0m\n\u001b[1;32m     36\u001b[0m     \u001b[0;31m# this will return a google sheet via the credential file\u001b[0m\u001b[0;34m\u001b[0m\u001b[0;34m\u001b[0m\u001b[0;34m\u001b[0m\u001b[0m\n",
      "\u001b[0;32m~/anchorage/source/python/lending_recon/src/google_sheet_utility.py\u001b[0m in \u001b[0;36m_get_lending_sheet\u001b[0;34m(self, worksheet_name)\u001b[0m\n\u001b[1;32m     49\u001b[0m \u001b[0;34m\u001b[0m\u001b[0m\n\u001b[1;32m     50\u001b[0m         \u001b[0;31m# get the instance of the Spreadsheet\u001b[0m\u001b[0;34m\u001b[0m\u001b[0;34m\u001b[0m\u001b[0;34m\u001b[0m\u001b[0m\n\u001b[0;32m---> 51\u001b[0;31m         \u001b[0msheet\u001b[0m \u001b[0;34m=\u001b[0m \u001b[0mclient\u001b[0m\u001b[0;34m.\u001b[0m\u001b[0mopen\u001b[0m\u001b[0;34m(\u001b[0m\u001b[0mworksheet_name\u001b[0m\u001b[0;34m)\u001b[0m\u001b[0;34m\u001b[0m\u001b[0;34m\u001b[0m\u001b[0m\n\u001b[0m\u001b[1;32m     52\u001b[0m \u001b[0;34m\u001b[0m\u001b[0m\n\u001b[1;32m     53\u001b[0m         \u001b[0;32mreturn\u001b[0m \u001b[0msheet\u001b[0m\u001b[0;34m\u001b[0m\u001b[0;34m\u001b[0m\u001b[0m\n",
      "\u001b[0;32m~/.local/lib/python3.9/site-packages/gspread/client.py\u001b[0m in \u001b[0;36mopen\u001b[0;34m(self, title, folder_id)\u001b[0m\n\u001b[1;32m    135\u001b[0m             )\n\u001b[1;32m    136\u001b[0m         \u001b[0;32mexcept\u001b[0m \u001b[0mStopIteration\u001b[0m \u001b[0;32mas\u001b[0m \u001b[0mex\u001b[0m\u001b[0;34m:\u001b[0m\u001b[0;34m\u001b[0m\u001b[0;34m\u001b[0m\u001b[0m\n\u001b[0;32m--> 137\u001b[0;31m             \u001b[0;32mraise\u001b[0m \u001b[0mSpreadsheetNotFound\u001b[0m\u001b[0;34m(\u001b[0m\u001b[0mresponse\u001b[0m\u001b[0;34m)\u001b[0m \u001b[0;32mfrom\u001b[0m \u001b[0mex\u001b[0m\u001b[0;34m\u001b[0m\u001b[0;34m\u001b[0m\u001b[0m\n\u001b[0m\u001b[1;32m    138\u001b[0m \u001b[0;34m\u001b[0m\u001b[0m\n\u001b[1;32m    139\u001b[0m         \u001b[0;31m# Drive uses different terminology\u001b[0m\u001b[0;34m\u001b[0m\u001b[0;34m\u001b[0m\u001b[0;34m\u001b[0m\u001b[0m\n",
      "\u001b[0;31mSpreadsheetNotFound\u001b[0m: <Response [200]>"
     ]
    }
   ],
   "source": [
    "\n",
    "import pandas as pd\n",
    "from io import StringIO\n",
    "import imp\n",
    "from oauth2client.service_account import ServiceAccountCredentials\n",
    "import matplotlib.pyplot as plt\n",
    "from IPython.core.display import display, HTML\n",
    "import sys\n",
    "import requests\n",
    "import json\n",
    "import os\n",
    "import time\n",
    "from datetime import datetime\n",
    "import logging\n",
    "\n",
    "logging.getLogger().setLevel(logging.INFO)\n",
    "\n",
    "sys.path.append(\"/home/eddie_akers_anchorlabs_com/anchorage/source/python/lending_recon/src\")\n",
    "import utils\n",
    "sys.path.append(\"/home/eddie_akers_anchorlabs_com/anchorage/source/python/lending_recon/src/vault_utils.py\")\n",
    "import vault_utils\n",
    "\n",
    "imp.reload(utils)\n",
    "imp.reload(vault_utils)\n",
    "\n",
    "\n",
    "# import vault_utils\n",
    "def get_ads_balances():\n",
    "    ## Anchorage Vault Utility\n",
    "    avu = vault_utils.AnchorageVaultUtility(\n",
    "        api_key_str,\n",
    "        signing_key_str\n",
    "    )\n",
    "    data = avu.query_all_vaults()\n",
    "\n",
    "    flattened_data = []\n",
    "    for account in data:\n",
    "        account_name = account['accountName']\n",
    "        for asset in account['assets']:\n",
    "            flattened_data.append({\n",
    "                'accountName': account_name,\n",
    "                'assetType': asset['assetType'],\n",
    "                'availableBalance_currentPrice': asset['availableBalance']['currentPrice'],\n",
    "                'availableBalance_currentUSDValue': asset['availableBalance']['currentUSDValue'],\n",
    "                'availableBalance_quantity': asset['availableBalance']['quantity'],\n",
    "                'totalBalance_currentPrice': asset['totalBalance']['currentPrice'],\n",
    "                'totalBalance_currentUSDValue': asset['totalBalance']['currentUSDValue'],\n",
    "                'totalBalance_quantity': asset['totalBalance']['quantity'],\n",
    "                'vaultId': asset['vaultId'],\n",
    "                'vaultName': asset['vaultName'],\n",
    "                'walletId': asset['walletId']\n",
    "            })\n",
    "\n",
    "    # Creating the DataFrame\n",
    "    df = pd.DataFrame(flattened_data)\n",
    "    return df\n",
    "\n",
    "sys.path.append(\"/home/eddie_akers_anchorlabs_com/anchorage/source/python/trading/agency_desk\")\n",
    "from lib import talos_utils\n",
    "\n",
    "sys.path.append(\"/home/eddie_akers_anchorlabs_com/anchorage/source/python/quant_lib/anchoragequantlib\")\n",
    "import google_sheet_utility as aql_google_sheet_utility\n",
    "sys.path.append(\"/home/eddie_akers_anchorlabs_com/anchorage/source/python/quant_lib/anchoragequantlib\")\n",
    "import utils as aql_utils\n",
    "\n",
    "# Load params\n",
    "os.environ[\"GOOGLE_SHEET_KEY\"] = \"projects/375663101687/secrets/trading_gsheet_auth_token/versions/1\"\n",
    "google_sheet_key = aql_utils.read_secret(os.environ.get(\"GOOGLE_SHEET_KEY\"))\n",
    "gsheet_key = json.loads(google_sheet_key)\n",
    "worksheet_name = \"Mock A1 Risk Dashboard\"\n",
    "tab_name = \"ads_balances\"\n",
    "\n",
    "ads_balances = get_ads_balances()\n",
    "gsu = aql_google_sheet_utility.GoogleSheetUtility(gsheet_key, worksheet_name)\n",
    "gsu.dump_current_sheet(tab_name, ads_balances)\n",
    "\n"
   ]
  },
  {
   "cell_type": "code",
   "execution_count": 8,
   "id": "2ab7da4b",
   "metadata": {},
   "outputs": [],
   "source": []
  },
  {
   "cell_type": "code",
   "execution_count": 9,
   "id": "d3cffdc1",
   "metadata": {},
   "outputs": [],
   "source": []
  },
  {
   "cell_type": "code",
   "execution_count": 10,
   "id": "79aff753",
   "metadata": {},
   "outputs": [],
   "source": []
  },
  {
   "cell_type": "code",
   "execution_count": null,
   "id": "2d72ec12-6df1-4327-bd21-4a0cced81a0a",
   "metadata": {},
   "outputs": [],
   "source": []
  },
  {
   "cell_type": "code",
   "execution_count": 6,
   "id": "60f761a7-8100-4081-b492-ccb48c36a19d",
   "metadata": {},
   "outputs": [],
   "source": [
    "\n",
    "\n"
   ]
  },
  {
   "cell_type": "code",
   "execution_count": null,
   "id": "062c26ea-d653-44b1-b2ec-bf1aa2d70822",
   "metadata": {},
   "outputs": [],
   "source": []
  },
  {
   "cell_type": "code",
   "execution_count": 16,
   "id": "7aa7601f-6bdd-494c-aab7-8c1675498c05",
   "metadata": {},
   "outputs": [],
   "source": []
  },
  {
   "cell_type": "code",
   "execution_count": null,
   "id": "1ca0a6fa-7ea7-4a68-b14b-432dcbfb6f80",
   "metadata": {},
   "outputs": [],
   "source": []
  },
  {
   "cell_type": "code",
   "execution_count": null,
   "id": "46b2504f",
   "metadata": {},
   "outputs": [],
   "source": []
  }
 ],
 "metadata": {
  "kernelspec": {
   "display_name": "usr",
   "language": "python",
   "name": "python3"
  },
  "language_info": {
   "codemirror_mode": {
    "name": "ipython",
    "version": 3
   },
   "file_extension": ".py",
   "mimetype": "text/x-python",
   "name": "python",
   "nbconvert_exporter": "python",
   "pygments_lexer": "ipython3",
   "version": "3.9.2"
  }
 },
 "nbformat": 4,
 "nbformat_minor": 5
}
