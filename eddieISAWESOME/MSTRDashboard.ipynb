{
 "cells": [
  {
   "cell_type": "code",
   "execution_count": 2,
   "metadata": {},
   "outputs": [],
   "source": [
    "import datetime as dt\n",
    "import json\n",
    "import pandas as pd # type: ignore\n",
    "import re\n",
    "import os\n",
    "import time\n",
    "import sys\n",
    "import logging\n",
    "from google.cloud import bigquery\n",
    "import numpy as np\n",
    "\n",
    "sys.path.insert(0,os.environ[\"HOME\"]+\"/trading/python/\")\n",
    "from lib import aplo # type: ignore\n",
    "from lib import talos_utils # type: ignore\n",
    "from lib import vault_utils # type: ignore\n",
    "\n",
    "sys.path.append(os.environ[\"HOME\"] + \"/anchorage/source/python/lib/quant_lib/anchoragequantlib\")\n",
    "import google_sheet_utility as aql_google_sheet_utility # type: ignore\n",
    "import utils as aql_utils # type: ignore\n",
    "\n",
    "sys.path.append(os.environ[\"HOME\"]+\"/trading/keys/\")\n",
    "import keys\n",
    "\n",
    "logging.getLogger().setLevel(logging.INFO)\n",
    "pd.set_option('display.max_rows', 50)\n",
    "pd.set_option('display.max_columns', None)\n",
    "pd.options.display.float_format = '{:,.8f}'.format"
   ]
  },
  {
   "cell_type": "code",
   "execution_count": 3,
   "metadata": {},
   "outputs": [],
   "source": [
    "os.environ[\"GOOGLE_SHEET_KEY\"] = \"projects/375663101687/secrets/trading_gsheet_auth_token/versions/1\"\n",
    "\n",
    "\n",
    "talos_wl_api = 'ANC34AV1RAK2'\n",
    "talos_wl_secret_api = 'mj9a70zpeve9rnam55kn0ql6c7sze3gw'\n",
    "host_wl = \"tal-160.prod.talostrading.com\"\n",
    "\n",
    "talos_api = 'ANCHJEWQR3YH'\n",
    "talos_secret = '3c4nnc7lg7mfg2ae2irz5kkueeei37pz'\n",
    "talos_env = \"tal-42.prod.talostrading.com\"\n",
    "\n",
    "api_key_str = \"4dbd027304ea4b4dd4ea6944fb61ecc633fdd4e3ec5ba21b8d7f5347ff14805c\"\n",
    "signing_key_str = \"0b3e32e78b4d13109bda7fe5ece8616c8116ebea4cc6a8f61b5276800979073d\"\n",
    "\n",
    "aplo_key = aplo_key = \"-xCvTl8CYBvFwD8MnMQsxdp4lItrun40\"\n",
    "\n",
    "api_key = 'ANC34AV1RAK2'\n",
    "api_secret = 'mj9a70zpeve9rnam55kn0ql6c7sze3gw'\n",
    "\n",
    "talos_wl_api = 'ANC34AV1RAK2'\n",
    "talos_wl_secret_api = 'mj9a70zpeve9rnam55kn0ql6c7sze3gw'\n",
    "#utc_now = datetime.datetime.utcnow()\n"
   ]
  },
  {
   "cell_type": "code",
   "execution_count": 4,
   "metadata": {},
   "outputs": [],
   "source": [
    "def get_mstr_trades():\n",
    "    \n",
    "    client = bigquery.Client(project=\"production-191601\")\n",
    "\n",
    "    query = \"\"\"\n",
    "SELECT\n",
    "    organizations.org_name AS organization_name,\n",
    "    trading_client_trades.*\n",
    "FROM `production-191601.sales.salesforce_user` AS salesforce_user\n",
    "LEFT JOIN `production-191601.sales.salesforce_account` AS salesforce_account\n",
    "    ON salesforce_account.owner_id = salesforce_user.id\n",
    "FULL OUTER JOIN `brokerage.client_trades` AS trading_client_trades\n",
    "    ON salesforce_account.org_id_c = trading_client_trades.organization_key_id\n",
    "LEFT JOIN `client_operations.organizations_confidential` AS organizations\n",
    "    ON trading_client_trades.organization_key_id = organizations.org_id\n",
    "WHERE\n",
    "    organizations.org_name = 'MicroStrategy'\n",
    "    AND trading_client_trades.created_at >= TIMESTAMP('2023-01-01 00:00:00')\n",
    "    AND trading_client_trades.created_at < CURRENT_TIMESTAMP()\n",
    "    AND trading_client_trades.latest_status IN ('EXECUTED', 'SETTLED', 'SETTLING')\n",
    "    AND (\n",
    "        shared.ASSET_SYMBOL_MAP(trading_client_trades.symbol) NOT IN ('USDC-USD', 'USD-USDC', 'PYUSD-USD')\n",
    "        OR shared.ASSET_SYMBOL_MAP(trading_client_trades.symbol) IS NULL\n",
    "    )\n",
    "ORDER BY\n",
    "    trading_client_trades.created_at DESC;\n",
    "\"\"\"\n",
    "\n",
    "    query_job = client.query(query)\n",
    "    df = query_job.result().to_dataframe()\n",
    "\n",
    "    return df\n",
    "\n",
    "\n",
    "def get_hold_trades():\n",
    "    \n",
    "    client = bigquery.Client(project=\"production-191601\")\n",
    "\n",
    "    query = \"\"\"\n",
    "SELECT\n",
    "    organizations.org_name AS organization_name,\n",
    "    trading_client_trades.*\n",
    "FROM `production-191601.sales.salesforce_user` AS salesforce_user\n",
    "LEFT JOIN `production-191601.sales.salesforce_account` AS salesforce_account\n",
    "    ON salesforce_account.owner_id = salesforce_user.id\n",
    "FULL OUTER JOIN `brokerage.client_trades` AS trading_client_trades\n",
    "    ON salesforce_account.org_id_c = trading_client_trades.organization_key_id\n",
    "LEFT JOIN `client_operations.organizations_confidential` AS organizations\n",
    "    ON trading_client_trades.organization_key_id = organizations.org_id\n",
    "WHERE\n",
    "    organizations.org_name = 'Anchorage Hold LLC'\n",
    "    AND trading_client_trades.created_at >= TIMESTAMP('2023-01-01 00:00:00')\n",
    "    AND trading_client_trades.created_at < CURRENT_TIMESTAMP()\n",
    "    AND trading_client_trades.latest_status IN ('EXECUTED', 'SETTLED', 'SETTLING')\n",
    "    AND trading_client_trades.symbol IN ('BTC-USD')\n",
    "    AND trading_client_trades.side IN ('SELL')\n",
    "    AND (\n",
    "        shared.ASSET_SYMBOL_MAP(trading_client_trades.symbol) NOT IN ('USDC-USD', 'USD-USDC', 'PYUSD-USD')\n",
    "        OR shared.ASSET_SYMBOL_MAP(trading_client_trades.symbol) IS NULL\n",
    "    )\n",
    "ORDER BY\n",
    "    trading_client_trades.created_at DESC;\n",
    "\"\"\"\n",
    "\n",
    "    query_job = client.query(query)\n",
    "    df = query_job.result().to_dataframe()\n",
    "   \n",
    "    return df"
   ]
  },
  {
   "cell_type": "code",
   "execution_count": 5,
   "metadata": {},
   "outputs": [
    {
     "data": {
      "text/html": [
       "<pre style=\"white-space:pre;overflow-x:auto;line-height:normal;font-family:Menlo,'DejaVu Sans Mono',consolas,'Courier New',monospace\"><span style=\"color: #808000; text-decoration-color: #808000; font-weight: bold\">/home/eddie_akers_anchorlabs_com/.local/lib/python3.9/site-packages/google/auth/_default.py:</span><span style=\"color: #808000; text-decoration-color: #808000; font-weight: bold\">76</span><span style=\"color: #808000; text-decoration-color: #808000; font-weight: bold\"> UserWarning</span><span style=\"color: #808000; text-decoration-color: #808000\">: Your application has authenticated using end user credentials from Google Cloud SDK without a quota project. You might receive a </span><span style=\"color: #808000; text-decoration-color: #808000\">\"quota exceeded\"</span><span style=\"color: #808000; text-decoration-color: #808000\"> or </span><span style=\"color: #808000; text-decoration-color: #808000\">\"API not enabled\"</span><span style=\"color: #808000; text-decoration-color: #808000\"> error. See the following page for troubleshooting: </span><span style=\"color: #808000; text-decoration-color: #808000; text-decoration: underline\">https://cloud.google.com/docs/authentication/adc-troubleshooting/user-creds.</span>\n",
       "</pre>\n"
      ],
      "text/plain": [
       "\u001b[1;33m/home/eddie_akers_anchorlabs_com/.local/lib/python3.9/site-packages/google/auth/\u001b[0m\u001b[1;33m_default.py\u001b[0m\u001b[1;33m:\u001b[0m\u001b[1;33m76\u001b[0m\u001b[1;33m UserWarning\u001b[0m\u001b[33m: Your application has authenticated using end user credentials from Google Cloud SDK without a quota project. You might receive a \u001b[0m\u001b[33m\"quota exceeded\"\u001b[0m\u001b[33m or \u001b[0m\u001b[33m\"API not enabled\"\u001b[0m\u001b[33m error. See the following page for troubleshooting: \u001b[0m\u001b[4;33mhttps://cloud.google.com/docs/authentication/adc-troubleshooting/user-creds.\u001b[0m\n"
      ]
     },
     "metadata": {},
     "output_type": "display_data"
    },
    {
     "data": {
      "text/html": [
       "<pre style=\"white-space:pre;overflow-x:auto;line-height:normal;font-family:Menlo,'DejaVu Sans Mono',consolas,'Courier New',monospace\"><span style=\"color: #808000; text-decoration-color: #808000; font-weight: bold\">/home/eddie_akers_anchorlabs_com/.local/lib/python3.9/site-packages/google/cloud/bigquery/table.py:</span><span style=\"color: #808000; text-decoration-color: #808000; font-weight: bold\">1727</span><span style=\"color: #808000; text-decoration-color: #808000; font-weight: bold\"> UserWarning</span><span style=\"color: #808000; text-decoration-color: #808000\">: BigQuery Storage module not found, fetch data with the REST endpoint instead.</span>\n",
       "</pre>\n"
      ],
      "text/plain": [
       "\u001b[1;33m/home/eddie_akers_anchorlabs_com/.local/lib/python3.9/site-packages/google/cloud/bigquery/\u001b[0m\u001b[1;33mtable.py\u001b[0m\u001b[1;33m:\u001b[0m\u001b[1;33m1727\u001b[0m\u001b[1;33m UserWarning\u001b[0m\u001b[33m: BigQuery Storage module not found, fetch data with the REST endpoint instead.\u001b[0m\n"
      ]
     },
     "metadata": {},
     "output_type": "display_data"
    },
    {
     "data": {
      "text/html": [
       "<pre style=\"white-space:pre;overflow-x:auto;line-height:normal;font-family:Menlo,'DejaVu Sans Mono',consolas,'Courier New',monospace\"><span style=\"color: #808000; text-decoration-color: #808000; font-weight: bold\">/home/eddie_akers_anchorlabs_com/.local/lib/python3.9/site-packages/google/cloud/bigquery/_pandas_helpers.py:</span><span style=\"color: #808000; text-decoration-color: #808000; font-weight: bold\">207</span><span style=\"color: #808000; text-decoration-color: #808000; font-weight: bold\"> UserWarning</span><span style=\"color: #808000; text-decoration-color: #808000\">: Unable to determine type for field </span><span style=\"color: #808000; text-decoration-color: #808000\">'commissions'</span><span style=\"color: #808000; text-decoration-color: #808000\">.</span>\n",
       "</pre>\n"
      ],
      "text/plain": [
       "\u001b[1;33m/home/eddie_akers_anchorlabs_com/.local/lib/python3.9/site-packages/google/cloud/bigquery/\u001b[0m\u001b[1;33m_pandas_helpers.py\u001b[0m\u001b[1;33m:\u001b[0m\u001b[1;33m207\u001b[0m\u001b[1;33m UserWarning\u001b[0m\u001b[33m: Unable to determine type for field \u001b[0m\u001b[33m'commissions'\u001b[0m\u001b[33m.\u001b[0m\n"
      ]
     },
     "metadata": {},
     "output_type": "display_data"
    },
    {
     "data": {
      "text/html": [
       "<pre style=\"white-space:pre;overflow-x:auto;line-height:normal;font-family:Menlo,'DejaVu Sans Mono',consolas,'Courier New',monospace\"><span style=\"color: #808000; text-decoration-color: #808000; font-weight: bold\">/home/eddie_akers_anchorlabs_com/.local/lib/python3.9/site-packages/google/auth/_default.py:</span><span style=\"color: #808000; text-decoration-color: #808000; font-weight: bold\">76</span><span style=\"color: #808000; text-decoration-color: #808000; font-weight: bold\"> UserWarning</span><span style=\"color: #808000; text-decoration-color: #808000\">: Your application has authenticated using end user credentials from Google Cloud SDK without a quota project. You might receive a </span><span style=\"color: #808000; text-decoration-color: #808000\">\"quota exceeded\"</span><span style=\"color: #808000; text-decoration-color: #808000\"> or </span><span style=\"color: #808000; text-decoration-color: #808000\">\"API not enabled\"</span><span style=\"color: #808000; text-decoration-color: #808000\"> error. See the following page for troubleshooting: </span><span style=\"color: #808000; text-decoration-color: #808000; text-decoration: underline\">https://cloud.google.com/docs/authentication/adc-troubleshooting/user-creds.</span>\n",
       "</pre>\n"
      ],
      "text/plain": [
       "\u001b[1;33m/home/eddie_akers_anchorlabs_com/.local/lib/python3.9/site-packages/google/auth/\u001b[0m\u001b[1;33m_default.py\u001b[0m\u001b[1;33m:\u001b[0m\u001b[1;33m76\u001b[0m\u001b[1;33m UserWarning\u001b[0m\u001b[33m: Your application has authenticated using end user credentials from Google Cloud SDK without a quota project. You might receive a \u001b[0m\u001b[33m\"quota exceeded\"\u001b[0m\u001b[33m or \u001b[0m\u001b[33m\"API not enabled\"\u001b[0m\u001b[33m error. See the following page for troubleshooting: \u001b[0m\u001b[4;33mhttps://cloud.google.com/docs/authentication/adc-troubleshooting/user-creds.\u001b[0m\n"
      ]
     },
     "metadata": {},
     "output_type": "display_data"
    },
    {
     "data": {
      "text/html": [
       "<pre style=\"white-space:pre;overflow-x:auto;line-height:normal;font-family:Menlo,'DejaVu Sans Mono',consolas,'Courier New',monospace\"><span style=\"color: #808000; text-decoration-color: #808000; font-weight: bold\">/home/eddie_akers_anchorlabs_com/.local/lib/python3.9/site-packages/google/cloud/bigquery/table.py:</span><span style=\"color: #808000; text-decoration-color: #808000; font-weight: bold\">1727</span><span style=\"color: #808000; text-decoration-color: #808000; font-weight: bold\"> UserWarning</span><span style=\"color: #808000; text-decoration-color: #808000\">: BigQuery Storage module not found, fetch data with the REST endpoint instead.</span>\n",
       "</pre>\n"
      ],
      "text/plain": [
       "\u001b[1;33m/home/eddie_akers_anchorlabs_com/.local/lib/python3.9/site-packages/google/cloud/bigquery/\u001b[0m\u001b[1;33mtable.py\u001b[0m\u001b[1;33m:\u001b[0m\u001b[1;33m1727\u001b[0m\u001b[1;33m UserWarning\u001b[0m\u001b[33m: BigQuery Storage module not found, fetch data with the REST endpoint instead.\u001b[0m\n"
      ]
     },
     "metadata": {},
     "output_type": "display_data"
    },
    {
     "data": {
      "text/html": [
       "<pre style=\"white-space:pre;overflow-x:auto;line-height:normal;font-family:Menlo,'DejaVu Sans Mono',consolas,'Courier New',monospace\"><span style=\"color: #808000; text-decoration-color: #808000; font-weight: bold\">/home/eddie_akers_anchorlabs_com/.local/lib/python3.9/site-packages/google/cloud/bigquery/_pandas_helpers.py:</span><span style=\"color: #808000; text-decoration-color: #808000; font-weight: bold\">207</span><span style=\"color: #808000; text-decoration-color: #808000; font-weight: bold\"> UserWarning</span><span style=\"color: #808000; text-decoration-color: #808000\">: Unable to determine type for field </span><span style=\"color: #808000; text-decoration-color: #808000\">'commissions'</span><span style=\"color: #808000; text-decoration-color: #808000\">.</span>\n",
       "</pre>\n"
      ],
      "text/plain": [
       "\u001b[1;33m/home/eddie_akers_anchorlabs_com/.local/lib/python3.9/site-packages/google/cloud/bigquery/\u001b[0m\u001b[1;33m_pandas_helpers.py\u001b[0m\u001b[1;33m:\u001b[0m\u001b[1;33m207\u001b[0m\u001b[1;33m UserWarning\u001b[0m\u001b[33m: Unable to determine type for field \u001b[0m\u001b[33m'commissions'\u001b[0m\u001b[33m.\u001b[0m\n"
      ]
     },
     "metadata": {},
     "output_type": "display_data"
    },
    {
     "data": {
      "text/html": [
       "<pre style=\"white-space:pre;overflow-x:auto;line-height:normal;font-family:Menlo,'DejaVu Sans Mono',consolas,'Courier New',monospace\"><span style=\"color: #808000; text-decoration-color: #808000; font-weight: bold\">/home/eddie_akers_anchorlabs_com/.local/lib/python3.9/site-packages/google/auth/_default.py:</span><span style=\"color: #808000; text-decoration-color: #808000; font-weight: bold\">76</span><span style=\"color: #808000; text-decoration-color: #808000; font-weight: bold\"> UserWarning</span><span style=\"color: #808000; text-decoration-color: #808000\">: Your application has authenticated using end user credentials from Google Cloud SDK without a quota project. You might receive a </span><span style=\"color: #808000; text-decoration-color: #808000\">\"quota exceeded\"</span><span style=\"color: #808000; text-decoration-color: #808000\"> or </span><span style=\"color: #808000; text-decoration-color: #808000\">\"API not enabled\"</span><span style=\"color: #808000; text-decoration-color: #808000\"> error. See the following page for troubleshooting: </span><span style=\"color: #808000; text-decoration-color: #808000; text-decoration: underline\">https://cloud.google.com/docs/authentication/adc-troubleshooting/user-creds.</span>\n",
       "</pre>\n"
      ],
      "text/plain": [
       "\u001b[1;33m/home/eddie_akers_anchorlabs_com/.local/lib/python3.9/site-packages/google/auth/\u001b[0m\u001b[1;33m_default.py\u001b[0m\u001b[1;33m:\u001b[0m\u001b[1;33m76\u001b[0m\u001b[1;33m UserWarning\u001b[0m\u001b[33m: Your application has authenticated using end user credentials from Google Cloud SDK without a quota project. You might receive a \u001b[0m\u001b[33m\"quota exceeded\"\u001b[0m\u001b[33m or \u001b[0m\u001b[33m\"API not enabled\"\u001b[0m\u001b[33m error. See the following page for troubleshooting: \u001b[0m\u001b[4;33mhttps://cloud.google.com/docs/authentication/adc-troubleshooting/user-creds.\u001b[0m\n"
      ]
     },
     "metadata": {},
     "output_type": "display_data"
    }
   ],
   "source": [
    "mstr_trades = get_mstr_trades() \n",
    "mstr_trades['created_at'] = mstr_trades['created_at'].astype(str) \n",
    "mstr_trades['tradeDate'] = mstr_trades['created_at'].str[:10]\n",
    "\n",
    "mstr_trades['Anch Cost Basis (BTC Price)'] = np.where(mstr_trades['fee_currency'] == 'BTC', mstr_trades['traded_quantity'] / (mstr_trades['order_quantity'] - mstr_trades['fee']), 0)\n",
    "mstr_trades['Anch Cost Basis (USD Proceeds)'] = mstr_trades['Anch Cost Basis (BTC Price)'] * mstr_trades['fee']\n",
    "\n",
    "\n",
    "hold_trades = get_hold_trades()\n",
    "hold_trades['created_at'] = hold_trades['created_at'].astype(str) \n",
    "hold_trades['tradeDate'] = hold_trades['created_at'].str[:10]\n",
    "\n",
    "\n",
    "\n",
    "\n",
    "os.environ[\"GOOGLE_SHEET_KEY\"] = \"projects/375663101687/secrets/trading_gsheet_auth_token/versions/1\"\n",
    "google_sheet_key = aql_utils.read_secret(os.environ.get(\"GOOGLE_SHEET_KEY\"))\n",
    "gsheet_key = json.loads(google_sheet_key)\n",
    "worksheet_name = \"MSTR PnL\"\n",
    "tab_name = \"MSTR_trades_new\"\n",
    "\n",
    "gsu = aql_google_sheet_utility.GoogleSheetUtility(gsheet_key, worksheet_name)\n",
    "gsu.dump_current_sheet(tab_name,mstr_trades)\n",
    "\n",
    "\n",
    "tab_name = \"HOLD_trades_new_dump\"\n",
    "\n",
    "gsu = aql_google_sheet_utility.GoogleSheetUtility(gsheet_key, worksheet_name)\n",
    "gsu.dump_current_sheet(tab_name,hold_trades)\n"
   ]
  },
  {
   "cell_type": "code",
   "execution_count": 6,
   "metadata": {},
   "outputs": [
    {
     "data": {
      "text/html": [
       "<pre style=\"white-space:pre;overflow-x:auto;line-height:normal;font-family:Menlo,'DejaVu Sans Mono',consolas,'Courier New',monospace\"><span style=\"color: #808000; text-decoration-color: #808000; font-weight: bold\">/home/eddie_akers_anchorlabs_com/.local/lib/python3.9/site-packages/google/auth/_default.py:</span><span style=\"color: #808000; text-decoration-color: #808000; font-weight: bold\">76</span><span style=\"color: #808000; text-decoration-color: #808000; font-weight: bold\"> UserWarning</span><span style=\"color: #808000; text-decoration-color: #808000\">: Your application has authenticated using end user credentials from Google Cloud SDK without a quota project. You might receive a </span><span style=\"color: #808000; text-decoration-color: #808000\">\"quota exceeded\"</span><span style=\"color: #808000; text-decoration-color: #808000\"> or </span><span style=\"color: #808000; text-decoration-color: #808000\">\"API not enabled\"</span><span style=\"color: #808000; text-decoration-color: #808000\"> error. See the following page for troubleshooting: </span><span style=\"color: #808000; text-decoration-color: #808000; text-decoration: underline\">https://cloud.google.com/docs/authentication/adc-troubleshooting/user-creds.</span>\n",
       "</pre>\n"
      ],
      "text/plain": [
       "\u001b[1;33m/home/eddie_akers_anchorlabs_com/.local/lib/python3.9/site-packages/google/auth/\u001b[0m\u001b[1;33m_default.py\u001b[0m\u001b[1;33m:\u001b[0m\u001b[1;33m76\u001b[0m\u001b[1;33m UserWarning\u001b[0m\u001b[33m: Your application has authenticated using end user credentials from Google Cloud SDK without a quota project. You might receive a \u001b[0m\u001b[33m\"quota exceeded\"\u001b[0m\u001b[33m or \u001b[0m\u001b[33m\"API not enabled\"\u001b[0m\u001b[33m error. See the following page for troubleshooting: \u001b[0m\u001b[4;33mhttps://cloud.google.com/docs/authentication/adc-troubleshooting/user-creds.\u001b[0m\n"
      ]
     },
     "metadata": {},
     "output_type": "display_data"
    },
    {
     "data": {
      "text/html": [
       "<pre style=\"white-space:pre;overflow-x:auto;line-height:normal;font-family:Menlo,'DejaVu Sans Mono',consolas,'Courier New',monospace\"><span style=\"color: #808000; text-decoration-color: #808000; font-weight: bold\">/home/eddie_akers_anchorlabs_com/.local/lib/python3.9/site-packages/google/cloud/bigquery/table.py:</span><span style=\"color: #808000; text-decoration-color: #808000; font-weight: bold\">1727</span><span style=\"color: #808000; text-decoration-color: #808000; font-weight: bold\"> UserWarning</span><span style=\"color: #808000; text-decoration-color: #808000\">: BigQuery Storage module not found, fetch data with the REST endpoint instead.</span>\n",
       "</pre>\n"
      ],
      "text/plain": [
       "\u001b[1;33m/home/eddie_akers_anchorlabs_com/.local/lib/python3.9/site-packages/google/cloud/bigquery/\u001b[0m\u001b[1;33mtable.py\u001b[0m\u001b[1;33m:\u001b[0m\u001b[1;33m1727\u001b[0m\u001b[1;33m UserWarning\u001b[0m\u001b[33m: BigQuery Storage module not found, fetch data with the REST endpoint instead.\u001b[0m\n"
      ]
     },
     "metadata": {},
     "output_type": "display_data"
    },
    {
     "data": {
      "text/html": [
       "<pre style=\"white-space:pre;overflow-x:auto;line-height:normal;font-family:Menlo,'DejaVu Sans Mono',consolas,'Courier New',monospace\"><span style=\"color: #808000; text-decoration-color: #808000; font-weight: bold\">/home/eddie_akers_anchorlabs_com/.local/lib/python3.9/site-packages/google/cloud/bigquery/_pandas_helpers.py:</span><span style=\"color: #808000; text-decoration-color: #808000; font-weight: bold\">207</span><span style=\"color: #808000; text-decoration-color: #808000; font-weight: bold\"> UserWarning</span><span style=\"color: #808000; text-decoration-color: #808000\">: Unable to determine type for field </span><span style=\"color: #808000; text-decoration-color: #808000\">'commissions'</span><span style=\"color: #808000; text-decoration-color: #808000\">.</span>\n",
       "</pre>\n"
      ],
      "text/plain": [
       "\u001b[1;33m/home/eddie_akers_anchorlabs_com/.local/lib/python3.9/site-packages/google/cloud/bigquery/\u001b[0m\u001b[1;33m_pandas_helpers.py\u001b[0m\u001b[1;33m:\u001b[0m\u001b[1;33m207\u001b[0m\u001b[1;33m UserWarning\u001b[0m\u001b[33m: Unable to determine type for field \u001b[0m\u001b[33m'commissions'\u001b[0m\u001b[33m.\u001b[0m\n"
      ]
     },
     "metadata": {},
     "output_type": "display_data"
    },
    {
     "name": "stdout",
     "output_type": "stream",
     "text": [
      "['5b90105b-ba66-4b0a-8f1e-3339b147e5a8', '497456e8-4532-481c-8763-b562953cc5e1', '5e9a15e0-6a34-43f5-b4ab-0d2e2a8f4995', '2e028e6e-2843-46d9-bfdc-ee89313bc2dd', 'b6833e4a-3fd5-4006-a24d-750657021ebf', '202a4a08-dc8b-415b-9300-f758de0fc59f', 'e4789096-67e2-4779-91b1-e55d2966751f', '7eb8a015-3438-459a-ab79-eac151992a69', '96354a4d-fc9b-4cd6-9a26-73b689f10e44', '901a3048-a4b0-4dee-91ae-c59185db1b07', '7b7ac861-acc3-4719-b147-373fb94c848b', '145dfdbe-6cff-4615-be86-f32f0ba04704', '9fa08ed9-201d-40b8-872f-65424a01396f', '74a00ae7-5b57-4a12-ba06-91b140381c57', 'f6f5b698-8932-4c7d-b88a-c369cd00e027', 'f75adc92-3b8a-4d74-bb9a-1bbe6bfaa454', '0eb3e446-d003-4178-a1bc-3cdcfc80393f', '32c26c03-8f76-4f40-a0f0-1c6be04ffc7d', '7ba513cb-ab03-494d-a4d1-a79f5b493e09', 'b7694028-260d-4ef1-88b1-b96b47f9034e', '12e608fa-0d97-4401-b89d-92e1ef105a37', 'e5e11b88-038c-4bc2-91c1-8b1ec8d189e7', '504d1af8-8449-4534-9fb2-df6a25b48ba7', '544484a3-a584-416f-afac-80258d3e7fa7', '70eaa47d-242c-487c-b94c-3c4eea55d2a5', 'c0f8fb15-cd47-4785-99eb-7fc0514c7977', '1a252a2d-f1ce-41a2-8e76-ba64b86ef19e', 'd5dada33-6c19-4edb-9b96-8c4c0f14c42f', '4a849032-fdf1-4178-8bbc-0605be3a43ca', 'e1b9a294-917b-4753-afc4-509788eccc80', 'd6b16a5c-0454-43ff-946e-8514f53c52e5', '551a358f-5bc5-40ce-8415-651a54173598', 'b1973814-6874-4542-8c3b-54a1548091ad', 'cdac7a65-aad3-4d6a-8d29-e6ab795fc929', 'f4a5d697-781f-4c63-82bd-8f385d337274', '2502edb4-0fbe-427b-b8f3-45717e541a49', 'a6501fe3-35c8-4233-addf-8e327c582c4f', 'df522362-fb11-424d-9067-d5566a2b2aea', '277786eb-361f-481c-b586-032d9a5e03b4', '9f5a06ad-c13a-4596-acf5-d619fea881cf', '6090966d-45ef-4e02-831d-69c7b1eab1af', 'e09e9cc9-a36b-4285-8055-dd750518dd1b', 'b73e3f96-d064-40fa-8009-ef1a036a6270', 'db0fca76-786d-44e4-a90c-1e026acabf70', '574e9be3-3a45-447a-960e-7a5ae1eff92a', '4a2f8eed-f214-4999-beb4-34d0bf7e61f2', '2781c69a-ce89-49fd-8a51-c5614c8cb76b', '944763a1-dd82-43fb-a71c-ba3a118b8f64', '0c4eb93b-ef73-4d44-958c-955784aa535c', '82047950-313a-4245-bab1-7801643caba8', 'b850a4f2-14a2-4040-bc24-8dac9f580bb4', 'fd2c634b-f710-4746-a1de-ee8a30ece3db', 'dd918fb7-57be-4f71-85df-8fa20f51c5f5', '2bcb1102-cb61-4498-9a2b-9ab57273bcab', 'b943ebbc-f244-4de4-8c65-ed90e274e009', '0ad678ea-c334-4c74-a041-6fcf2cbb0567', 'b9b7cbf8-56a6-4f9c-8837-3e80940cacea', '76849a2e-2cb2-4c8a-ae19-a0d8b3589250', '3e23d277-3bcb-463d-a0f2-acbb7c431f92', '5f7e4250-f11c-408b-a99d-80a47d5d198b', 'bc1efc9b-4155-411b-afee-7d4367d407dc', '3ca399e6-82e6-45c2-943a-e548e34d40b8', '333430c9-97e4-4e9f-9fad-2c9638d04fba', '7d2b6d21-4f40-4b97-9331-27b308c30239', '8bcec175-15e8-4d15-9f45-5ae7509ade81', '931bb561-7438-4b19-aa00-cb351ccd8067', 'f963c4b6-b8c7-420d-b857-93eafa7c5bf4', '5745da40-da81-4fab-9b49-140d148a167a', 'f47bafe3-5453-4fed-bd7d-b6810ac7c6c0', 'd88d0384-f23a-4950-a438-6c558a55e8b7', '66faf902-d6ce-43bb-899e-b0ba9b34891d', '7b35e4fa-ffd8-41ad-b364-c8e6c90f2d4a', '852f7850-15b2-4767-8bb8-f4cc7a3b9308', '433b8ab9-e837-45b1-baff-702ddf6db3e9', 'aa554b13-e3f5-4627-8880-b92a07ab5b81', '596bad4d-0428-46e9-928c-dc221795e0cd', '3cc2b663-e91b-491f-83a4-f085736d1e4d', 'b4b759f4-09a4-4a2e-aaaf-432d0180b28a', 'c44bc49c-262a-4042-9e94-33d172e42850', '42e6e768-a0b5-44fc-97c0-64b67e813673', '41e70dcc-4c3c-4cb0-8edd-3b84e14d9f20', 'd8ff4b6c-bfe2-41d1-8330-e5475c48afd9', 'ee290e31-91f9-482f-aaf5-d3a120d44ac9', '039fe3f6-1232-4d10-bc56-6b1d7e71bae8', 'fb3650e7-5179-49b9-bf15-d0d2cb25a78f', '462084d7-8743-4387-b032-03b1c3b7d7f6', 'd09aa0c3-68cd-4aef-8530-984e31f150ec', '5797b004-f09c-4f8a-a21f-40dcfe669c84', '580bee60-5a01-4fe7-bbde-c1acfe86f48f', '6f01d880-03b2-4812-83af-b8e85dfae036', '320f68f3-00fe-4837-931e-37e5cbfe3ed6', 'e9362735-6b03-4b59-9e4d-fa223e87fcb0', '9db8bcbc-b4e0-4935-8fb2-283be5c97f95', '385368d1-7dc9-4c8c-bb06-2ee29ce652cf', '09c19b70-940f-43c8-ba26-8ec799207f04', '8cacdf5f-153f-4539-8da2-7fe62ff1f559', '2c7294cf-d738-4589-90f0-faf3d380cdb0', '6f0eefff-b6f6-4ae3-a0c7-fc74fee94a15', '0c990c5a-7b35-4b14-8717-d74a0af7afcf', '77d47686-a2a6-4e70-9c46-a2a07ced4618', 'e7add86c-f16b-465e-a1de-470d4093c80e', 'aa8a10f6-0f7c-49d9-a862-64d8892e044e', '57141c35-319e-4286-b3a8-436447cdffc3', 'a64cc214-50e8-4fde-a75c-d7957c5292a3', '283f296c-0f98-4ab5-ab77-f4f8548a95fc', 'b549a1f8-0db2-4cf1-bb71-87a3ee6b9c9e', 'e00eafc1-ece5-4685-8afd-b4ef43f28aa2', '2d9738cd-ae13-496c-9f50-c216bade12a4', 'dbbdbcbb-1424-4363-a3e6-f9474c5156b8', '85c58168-703c-4e3c-a645-bc76b06af252', '8a770c09-0877-4aa1-87d3-e9d73a89f42e', '0d84f754-6c35-4bd0-993e-44fe5ba687fc', '479eb80b-17bf-4020-a2c9-a1998560d1b3', '51f92c3c-c39c-4785-ab12-7fc6d4b5eec4', '1b3910fc-bcdb-4c21-8c91-93d31b791120', 'f627859d-539a-4b5c-9ea9-6c7e3483f067', 'c3fc569a-92f0-491c-8690-5ca862011743', 'f9627007-f3fa-4e12-a393-316d4f60e9e9', '4171038c-451c-447c-8c52-b6ec4414d53c', '38b709b7-8a79-488b-ad06-7aff86363870', 'c76b8af7-94c5-4ddc-92f4-32194f6d73dd', '4a9df6e8-51b2-416f-a961-ee39c4842957', '0243fff8-9f6b-468a-bd87-e314dbc5f7fe', 'cd358ccb-5e87-4f1d-b6fc-8f880586966d', '9b9b76aa-4c5b-44e0-8c50-41b24181c2d1', 'd2671d8e-3ef1-47fc-97b6-577951adcf54', 'f3762fe9-81ba-4433-a34a-5807a8590b77', '7113d45d-faeb-4afa-ac46-436b9d9a13a5', '2a6ca279-f832-4950-bf8e-06c06b5550af', '257921d9-b6a4-4d45-bf2d-2d095fdae1bd', '2f24bc27-9bc5-4bda-8bf9-8d0ca5048562', 'ec86b84f-f6c6-45e1-abef-3d4ec5336428', '65360337-e7c1-4f62-9ff5-ea15c27c4827', '29079485-7de0-4dd3-aef9-eceb7d422c45', '9862f5ae-020c-4eb4-879d-944fa5a887e0', '4278af32-ad52-4e3c-80cc-4b43611f4d63', '4a942653-5eaf-4600-9c09-02b08248fe61', '903eb1b6-16e9-4e72-b210-85acd26b52aa', '76e9577c-be65-4a36-8599-45bc70af1b38', '10c5fb17-f7df-4e36-b123-b59a8ae25c5f', '7b080c40-ede1-418e-a4bf-e92d8cbc9647', '209b247c-156b-49da-952e-9c0c047e3802', '659e89e9-b36b-4d10-adb0-96e17b679844', 'a0a69724-5dec-4924-b4ba-69da2dfd0301', '23e0ee0f-4fa2-4ceb-8670-9d67a770084f', 'e72fade0-dfa2-485d-b7e1-3bc712046e41', 'e0eb9e43-8531-4d08-b4e4-9e931d67da77', '9c0979a8-3fc7-485d-9cb8-9ad6ddde1f6d', 'fe1d9b46-741c-4643-8d5c-5df268f97253', '2c4b0c18-d2af-4c68-8e30-ea05dcc7c719', '08b7caa0-acb4-4016-a535-3dd5bfc47582', 'ee4fe16f-75dd-474c-94a9-f1213c0af8e1', '14aa6404-402c-4b9c-9aae-0b8a23f1591c', 'd6f745cf-2ed3-439a-a454-b8f79b36887c', '46853a8d-c270-4eaf-a7a3-153f3e738772', '6eede772-39a2-4355-9711-330434d8d96f', '838b6a9d-4b72-453d-ad30-8180fffce846', '9f954b7d-3976-4edc-befe-d8b425111b93', '3b6fc88b-d4e2-4871-beaa-f56e2333266c', '06fb1b53-e3b3-4b22-bb6b-513d983d0d0c', '6290597c-5cfd-4850-82f2-e81ea6c588b0', '6d7537ce-85e8-4426-b580-da56162c8943', '1c34d305-e620-45cb-8e7f-80d23ec4b365', 'b11b6d37-c0e5-4a64-a007-3ea88d30988c', '60192517-d071-4249-8faa-a072783f2177', 'a2b1f2f0-19ca-455b-b3ee-a1b8b4a78af7', 'c716cf1d-782a-413a-b7dc-b5d33fde8c00', '5c30c215-ccea-4017-97ae-195622c45d56', '7fcf9dcd-3817-461f-bb0c-195be80dc610', '76523cbe-03eb-4c7d-8c64-9533990ed5a7', 'edd0724a-fe3e-46e5-95f8-e3e3eaa1ccc6', '0fab908e-2b4f-468b-8eb3-be129f6e5068', '9a945aea-d547-4b64-b030-28fdfc0922ab', '940ac51f-bec9-461f-b885-e3df977baaf5', 'b3b378cf-4d5f-4c1c-b628-9a0dd0797000', 'c5324630-7a97-47be-9de7-af7dbe3652db', '3c85488c-19b6-4699-a57a-8787f49caf54', 'ea15bb0a-3e64-4013-8bf9-fa8cb241b89a', '81d537fc-6d7f-4490-8df9-8c14a6e32801', 'e407a9f9-b74a-4811-814e-7611b663db77', 'cf8d4616-8356-47c7-aa51-a83f9e1b9bed', '7d2d0bfe-de00-44fa-9d38-4d2425e61390', 'aa5dbead-0f20-42bb-b204-b06a2f3bfd2f', '6b3f65e2-8630-4c05-b124-e6e050fe5df2', '5372f4c4-e0dd-4e1d-a741-7e0e6c9a1899', '5bcfc68b-131e-4f75-bc63-692eb7918e65', '89cd5fa0-38d9-412e-a149-a6bb32301c57', 'cf96ae7a-6611-4aec-9075-13454ca1d543', '699c4b18-33c2-4b32-bf9e-5434753aa373', '0fb9052f-a30e-4257-b98c-2d5b335f7a1c', 'd9718e6d-0add-45fc-9f13-7209573d6d9d', '8680dafa-7b53-4b07-abbd-9f3ebe3d3914', '3de25009-288b-4911-9f44-d8eb388a090f', 'b4038c79-cfb5-4348-aa7a-83eb3643c841', '3a1760a6-dddd-403f-8fec-8791ac8acab6', '012d5723-40df-474e-ae81-c5defbadc16a', 'ae34f47f-5523-4b5b-828e-5a95f8509d5f', 'ca0cbc55-930a-4b3b-a18d-51fe54747f92', '3394b0c3-f8eb-4a92-adb4-0f6d1ccf8ebb', 'bcbbd476-5960-4406-a836-89680a854a70', 'e0ad7ae1-d231-48ed-9fbf-8916e7761224', 'fbc682e8-7e74-44eb-9d8d-c6d9804f9eba', '632f3014-b85e-4aa5-ac58-21aad22d9346', 'cddfac73-6fb1-4551-a272-7f96116781c9', '4c82f13f-43cf-4df3-a4e9-3d84afb9bd87', 'e98cbdde-bbd0-49a5-9550-cf12a4dbad8e', '1fd8e03c-ef56-479f-a502-ba771e13659d', '20cdbe29-c754-4558-8458-f542aca46957', '048c47a8-5208-46f5-8fad-bb2579b2e40f', '330999c7-70fb-40db-9c04-3bc3ea7209e9', '0b6ccc22-20fc-4d08-ba17-3f79d4ed0041', 'adf45088-775b-4e19-9207-c794c8fcbc6e', '826ee21f-32ff-41eb-863a-2b3740836b76', '2fbf04ed-9db9-42d7-8390-d92eb3c2e3c1', 'a718143d-0db1-4965-93a7-0ca05b8e5d45', '0bd254eb-8d6c-4465-8f70-5e1a0eaf39bc', 'dae2c525-cb62-4984-a947-2b4298a9be6c', '7ca1e9c7-9bf3-4c6a-87bb-7ba4ecc9ff92', '118f12a5-636b-4576-8e43-4f455e82bf05', '24b21838-dc58-4c7e-acc6-a322ef11348f', 'd84ec013-adf6-492e-a180-a3190d08007a', 'd8a3c344-794c-454b-8038-ffdb4f37db5e', 'c00d865b-c86c-4b71-ba35-d98f627bca23', '4fd59e6f-2271-412a-b792-30e5aee705a9', 'cd16794e-95cf-46bc-84ba-bb3c564ba570', 'dc0d69c7-f4bf-40ce-a577-f6ea1133edd2', '8155602b-1be9-4f61-bb49-462b4ff73866', 'c29128fa-e5bc-4f06-82bc-b26ffabdeb3f', '5cf28172-c831-4649-984e-8a24ebcb635b', 'b8b05be9-40c2-4501-8310-922f3f8955c9', 'effd4a96-fc28-4189-9b1b-e4335e476d71', '08f9a369-f37e-49da-ab78-737839515781', 'debd419a-368d-4aaa-b527-847c5c665f17', '7d997b14-f6d7-4fbd-a0c7-587f45d1d23e', 'cab0ec32-2441-422c-84e4-a584059ac621', '37e4a442-9467-4fd0-ba43-1ddba1c10285', 'bb663745-b76e-4f56-9f86-7b765c1d537f', '5efb43a1-6cdf-4885-8924-fc3a63131513', 'cbfd2cc0-4463-4e71-85a5-6b73d9dea0d9', '464d6da8-582f-4509-8b9d-4eccc13eb1ce', 'ad644a7f-40cc-4893-950b-a69d4a5c8a9c', '80304403-f133-42ab-98cf-0302cb2ebf65', '43963ed1-55b4-4d64-8400-65bad7d5a8da', 'ba48a625-9163-44b1-b5c2-e5bbb03dedce', '6416c08a-05df-48f7-a768-61e75d9f063b', 'c4a52289-09de-4f66-a093-e90680457bb8', 'cf421594-24a3-4f5c-ac8c-7f60d34f8ec5', '58c3ed85-6114-468a-ac34-8788143db2a1', '50e4c912-cfa4-449a-b316-e2e2748770b0', '8d590ab8-8d63-4492-969c-39861015b093', 'f47dc26c-5a41-4bb7-b974-4157cdcc5ff5', '521064b5-0cad-48e0-a603-c20a878621c0', '9d35a224-5bbc-43b3-9f61-6191b7ece586', 'e17681e5-e4bc-4ffc-95fb-ab90c8b933a8', '1b405c43-fcdb-4864-aa82-3df3c0cda599', '8585da86-474e-4496-bece-0377b9da813f', '45db27aa-c7d6-4c56-8056-0967fa9b4e94', '7ebf89e0-d658-4883-bbb0-b1a3b8302230', 'cb93fea5-7c74-4ddb-8bd9-2289d937f8bd', '6d7b6790-6f4a-48fa-ace3-4aba7be5a570', '386af729-295c-4c42-bb17-fe186293ca0b', '6cf1dcbd-b480-4be4-9e79-3e714779249b', '304a3f4f-ffed-4fe3-b420-e1fc6a6c39ae', '4d32431c-3109-4075-81d3-57e14b34d7fd', 'aa42d773-6b5f-42bb-b728-0f964d823d3b', 'b60dd21b-ef70-4489-b13d-8b1b0e3761d8', '9cadde24-81cd-4460-ba95-5ac9f14af440', 'bd3ca443-e3ff-4d1c-90c7-00a8dddc5ea0', '1adb6e59-c992-449f-8240-e711683ee68b', '8c291386-150a-4682-91a9-368183bbf6f9', '884aff59-020d-46c6-88c1-e45e055604ed', '4195f4c7-46c1-4c6b-9721-6e8e4822aafd', 'a02199d4-7e74-4f6e-857e-97aa4d7e5faa', '4e4b759a-c104-493e-8519-82d31236095c', 'c5c3952a-c63e-430c-a1f0-098abcc4e7c7', '719bcb45-89d1-43ab-a59d-2589df04936a', '5b93443f-7225-4179-96a7-db875d29acc6', 'e86017ce-4a94-428a-b9a5-443986959442', '4f17a82b-caf2-47bb-ae86-878add4d7061', 'd2315ab1-c9df-43ce-81f3-55a09f5ed76d', 'efd3d3ca-7c3e-4636-896b-8de035de4922', 'e55c0439-4dde-468b-85ee-ce1215977950', '1ba9bfaa-5fc4-45c9-81a8-c7381e949def', '32ec64ba-b7ed-49bc-9e56-8aeceac3e590', 'b4b2b3a1-9ebb-4743-a615-ab4f0963d38d', '55e2354a-a6e6-4bc4-a6f9-56d030414e77', '1f863c34-c28a-4dce-99e8-9285525af4fc', 'da34995d-fd93-44a5-b4ba-23d62f2c7998', '54533d6e-4094-454b-9feb-bb9516fcbd6f', '6d00dbf9-5f11-4bf4-915a-714d9655f210']\n",
      "Processing order ID: 5b90105b-ba66-4b0a-8f1e-3339b147e5a8\n",
      "ERROR during get_trade_fills for orderID 5b90105b-ba66-4b0a-8f1e-3339b147e5a8: 'str' object has no attribute 'get_trade_fills'\n",
      "\n",
      "\n",
      "combined_df:\n",
      "Empty DataFrame\n",
      "Columns: []\n",
      "Index: []\n",
      "Columns in combined_df: RangeIndex(start=0, stop=0, step=1)\n"
     ]
    },
    {
     "ename": "KeyError",
     "evalue": "'Market'",
     "output_type": "error",
     "traceback": [
      "\u001b[0;31m---------------------------------------------------------------------------\u001b[0m",
      "\u001b[0;31mKeyError\u001b[0m                                  Traceback (most recent call last)",
      "\u001b[0;32m/tmp/ipykernel_23970/4248858419.py\u001b[0m in \u001b[0;36m<module>\u001b[0;34m\u001b[0m\n\u001b[1;32m    130\u001b[0m \u001b[0;31m# Run the function to process just one order\u001b[0m\u001b[0;34m\u001b[0m\u001b[0;34m\u001b[0m\u001b[0;34m\u001b[0m\u001b[0m\n\u001b[1;32m    131\u001b[0m \u001b[0morder_id\u001b[0m \u001b[0;34m=\u001b[0m \u001b[0morder_id_list\u001b[0m\u001b[0;34m[\u001b[0m\u001b[0;36m0\u001b[0m\u001b[0;34m]\u001b[0m  \u001b[0;31m# Take the first order in the list (or just define a single order)\u001b[0m\u001b[0;34m\u001b[0m\u001b[0;34m\u001b[0m\u001b[0m\n\u001b[0;32m--> 132\u001b[0;31m \u001b[0mresults\u001b[0m \u001b[0;34m=\u001b[0m \u001b[0mprocess_single_order\u001b[0m\u001b[0;34m(\u001b[0m\u001b[0morder_id\u001b[0m\u001b[0;34m,\u001b[0m \u001b[0mtalos_env\u001b[0m\u001b[0;34m)\u001b[0m\u001b[0;34m\u001b[0m\u001b[0;34m\u001b[0m\u001b[0m\n\u001b[0m\u001b[1;32m    133\u001b[0m \u001b[0;34m\u001b[0m\u001b[0m\n\u001b[1;32m    134\u001b[0m \u001b[0;31m# Print the results for the single order\u001b[0m\u001b[0;34m\u001b[0m\u001b[0;34m\u001b[0m\u001b[0;34m\u001b[0m\u001b[0m\n",
      "\u001b[0;32m/tmp/ipykernel_23970/4248858419.py\u001b[0m in \u001b[0;36mprocess_single_order\u001b[0;34m(order_id, talos_env)\u001b[0m\n\u001b[1;32m    102\u001b[0m \u001b[0;34m\u001b[0m\u001b[0m\n\u001b[1;32m    103\u001b[0m     \u001b[0;31m# Step 2: Apply fills_by_dealer to get the summary\u001b[0m\u001b[0;34m\u001b[0m\u001b[0;34m\u001b[0m\u001b[0;34m\u001b[0m\u001b[0m\n\u001b[0;32m--> 104\u001b[0;31m     \u001b[0mfiltered_df\u001b[0m\u001b[0;34m,\u001b[0m \u001b[0msummary_str\u001b[0m\u001b[0;34m,\u001b[0m \u001b[0msummary_df\u001b[0m \u001b[0;34m=\u001b[0m \u001b[0mfills_by_dealer\u001b[0m\u001b[0;34m(\u001b[0m\u001b[0mcombined_df\u001b[0m\u001b[0;34m,\u001b[0m \u001b[0mdealer_cutoff_start\u001b[0m\u001b[0;34m=\u001b[0m\u001b[0;32mNone\u001b[0m\u001b[0;34m,\u001b[0m \u001b[0mdealer_cutoff_end\u001b[0m\u001b[0;34m=\u001b[0m\u001b[0;32mNone\u001b[0m\u001b[0;34m)\u001b[0m\u001b[0;34m\u001b[0m\u001b[0;34m\u001b[0m\u001b[0m\n\u001b[0m\u001b[1;32m    105\u001b[0m \u001b[0;34m\u001b[0m\u001b[0m\n\u001b[1;32m    106\u001b[0m     \u001b[0;31m# Step 3: Set index and add win_rate column\u001b[0m\u001b[0;34m\u001b[0m\u001b[0;34m\u001b[0m\u001b[0;34m\u001b[0m\u001b[0m\n",
      "\u001b[0;32m/tmp/ipykernel_23970/4248858419.py\u001b[0m in \u001b[0;36mfills_by_dealer\u001b[0;34m(df, dealer_cutoff_start, dealer_cutoff_end)\u001b[0m\n\u001b[1;32m     25\u001b[0m         \u001b[0mfiltered_df\u001b[0m \u001b[0;34m=\u001b[0m \u001b[0mdf\u001b[0m\u001b[0;34m\u001b[0m\u001b[0;34m\u001b[0m\u001b[0m\n\u001b[1;32m     26\u001b[0m     \u001b[0;31m# Group by dealer\u001b[0m\u001b[0;34m\u001b[0m\u001b[0;34m\u001b[0m\u001b[0;34m\u001b[0m\u001b[0m\n\u001b[0;32m---> 27\u001b[0;31m     \u001b[0mdf_by_dealer\u001b[0m \u001b[0;34m=\u001b[0m \u001b[0mfiltered_df\u001b[0m\u001b[0;34m.\u001b[0m\u001b[0mgroupby\u001b[0m\u001b[0;34m(\u001b[0m\u001b[0;34m\"Market\"\u001b[0m\u001b[0;34m)\u001b[0m\u001b[0;34m[\u001b[0m\u001b[0;34m[\u001b[0m\u001b[0;34m\"amount_less_fees\"\u001b[0m\u001b[0;34m,\u001b[0m \u001b[0;34m\"Quantity\"\u001b[0m\u001b[0;34m]\u001b[0m\u001b[0;34m]\u001b[0m\u001b[0;34m.\u001b[0m\u001b[0msum\u001b[0m\u001b[0;34m(\u001b[0m\u001b[0;34m)\u001b[0m\u001b[0;34m.\u001b[0m\u001b[0mreset_index\u001b[0m\u001b[0;34m(\u001b[0m\u001b[0;34m)\u001b[0m\u001b[0;34m\u001b[0m\u001b[0;34m\u001b[0m\u001b[0m\n\u001b[0m\u001b[1;32m     28\u001b[0m     \u001b[0mdf_count\u001b[0m \u001b[0;34m=\u001b[0m \u001b[0mfiltered_df\u001b[0m\u001b[0;34m.\u001b[0m\u001b[0mgroupby\u001b[0m\u001b[0;34m(\u001b[0m\u001b[0;34m\"Market\"\u001b[0m\u001b[0;34m)\u001b[0m\u001b[0;34m[\u001b[0m\u001b[0;34m\"OrderID\"\u001b[0m\u001b[0;34m]\u001b[0m\u001b[0;34m.\u001b[0m\u001b[0mcount\u001b[0m\u001b[0;34m(\u001b[0m\u001b[0;34m)\u001b[0m\u001b[0;34m.\u001b[0m\u001b[0mreset_index\u001b[0m\u001b[0;34m(\u001b[0m\u001b[0;34m)\u001b[0m\u001b[0;34m\u001b[0m\u001b[0;34m\u001b[0m\u001b[0m\n\u001b[1;32m     29\u001b[0m     \u001b[0mdf_count\u001b[0m\u001b[0;34m.\u001b[0m\u001b[0mrename\u001b[0m\u001b[0;34m(\u001b[0m\u001b[0mcolumns\u001b[0m\u001b[0;34m=\u001b[0m\u001b[0;34m{\u001b[0m\u001b[0;34m\"OrderID\"\u001b[0m\u001b[0;34m:\u001b[0m \u001b[0;34m\"fill_count\"\u001b[0m\u001b[0;34m}\u001b[0m\u001b[0;34m)\u001b[0m\u001b[0;34m\u001b[0m\u001b[0;34m\u001b[0m\u001b[0m\n",
      "\u001b[0;32m~/.local/lib/python3.9/site-packages/pandas/core/frame.py\u001b[0m in \u001b[0;36mgroupby\u001b[0;34m(self, by, axis, level, as_index, sort, group_keys, observed, dropna)\u001b[0m\n\u001b[1;32m   9181\u001b[0m             \u001b[0;32mraise\u001b[0m \u001b[0mTypeError\u001b[0m\u001b[0;34m(\u001b[0m\u001b[0;34m\"You have to supply one of 'by' and 'level'\"\u001b[0m\u001b[0;34m)\u001b[0m\u001b[0;34m\u001b[0m\u001b[0;34m\u001b[0m\u001b[0m\n\u001b[1;32m   9182\u001b[0m \u001b[0;34m\u001b[0m\u001b[0m\n\u001b[0;32m-> 9183\u001b[0;31m         return DataFrameGroupBy(\n\u001b[0m\u001b[1;32m   9184\u001b[0m             \u001b[0mobj\u001b[0m\u001b[0;34m=\u001b[0m\u001b[0mself\u001b[0m\u001b[0;34m,\u001b[0m\u001b[0;34m\u001b[0m\u001b[0;34m\u001b[0m\u001b[0m\n\u001b[1;32m   9185\u001b[0m             \u001b[0mkeys\u001b[0m\u001b[0;34m=\u001b[0m\u001b[0mby\u001b[0m\u001b[0;34m,\u001b[0m\u001b[0;34m\u001b[0m\u001b[0;34m\u001b[0m\u001b[0m\n",
      "\u001b[0;32m~/.local/lib/python3.9/site-packages/pandas/core/groupby/groupby.py\u001b[0m in \u001b[0;36m__init__\u001b[0;34m(self, obj, keys, axis, level, grouper, exclusions, selection, as_index, sort, group_keys, observed, dropna)\u001b[0m\n\u001b[1;32m   1327\u001b[0m \u001b[0;34m\u001b[0m\u001b[0m\n\u001b[1;32m   1328\u001b[0m         \u001b[0;32mif\u001b[0m \u001b[0mgrouper\u001b[0m \u001b[0;32mis\u001b[0m \u001b[0;32mNone\u001b[0m\u001b[0;34m:\u001b[0m\u001b[0;34m\u001b[0m\u001b[0;34m\u001b[0m\u001b[0m\n\u001b[0;32m-> 1329\u001b[0;31m             grouper, exclusions, obj = get_grouper(\n\u001b[0m\u001b[1;32m   1330\u001b[0m                 \u001b[0mobj\u001b[0m\u001b[0;34m,\u001b[0m\u001b[0;34m\u001b[0m\u001b[0;34m\u001b[0m\u001b[0m\n\u001b[1;32m   1331\u001b[0m                 \u001b[0mkeys\u001b[0m\u001b[0;34m,\u001b[0m\u001b[0;34m\u001b[0m\u001b[0;34m\u001b[0m\u001b[0m\n",
      "\u001b[0;32m~/.local/lib/python3.9/site-packages/pandas/core/groupby/grouper.py\u001b[0m in \u001b[0;36mget_grouper\u001b[0;34m(obj, key, axis, level, sort, observed, validate, dropna)\u001b[0m\n\u001b[1;32m   1041\u001b[0m                 \u001b[0min_axis\u001b[0m\u001b[0;34m,\u001b[0m \u001b[0mlevel\u001b[0m\u001b[0;34m,\u001b[0m \u001b[0mgpr\u001b[0m \u001b[0;34m=\u001b[0m \u001b[0;32mFalse\u001b[0m\u001b[0;34m,\u001b[0m \u001b[0mgpr\u001b[0m\u001b[0;34m,\u001b[0m \u001b[0;32mNone\u001b[0m\u001b[0;34m\u001b[0m\u001b[0;34m\u001b[0m\u001b[0m\n\u001b[1;32m   1042\u001b[0m             \u001b[0;32melse\u001b[0m\u001b[0;34m:\u001b[0m\u001b[0;34m\u001b[0m\u001b[0;34m\u001b[0m\u001b[0m\n\u001b[0;32m-> 1043\u001b[0;31m                 \u001b[0;32mraise\u001b[0m \u001b[0mKeyError\u001b[0m\u001b[0;34m(\u001b[0m\u001b[0mgpr\u001b[0m\u001b[0;34m)\u001b[0m\u001b[0;34m\u001b[0m\u001b[0;34m\u001b[0m\u001b[0m\n\u001b[0m\u001b[1;32m   1044\u001b[0m         \u001b[0;32melif\u001b[0m \u001b[0misinstance\u001b[0m\u001b[0;34m(\u001b[0m\u001b[0mgpr\u001b[0m\u001b[0;34m,\u001b[0m \u001b[0mGrouper\u001b[0m\u001b[0;34m)\u001b[0m \u001b[0;32mand\u001b[0m \u001b[0mgpr\u001b[0m\u001b[0;34m.\u001b[0m\u001b[0mkey\u001b[0m \u001b[0;32mis\u001b[0m \u001b[0;32mnot\u001b[0m \u001b[0;32mNone\u001b[0m\u001b[0;34m:\u001b[0m\u001b[0;34m\u001b[0m\u001b[0;34m\u001b[0m\u001b[0m\n\u001b[1;32m   1045\u001b[0m             \u001b[0;31m# Add key to exclusions\u001b[0m\u001b[0;34m\u001b[0m\u001b[0;34m\u001b[0m\u001b[0;34m\u001b[0m\u001b[0m\n",
      "\u001b[0;31mKeyError\u001b[0m: 'Market'"
     ]
    }
   ],
   "source": [
    "def multi_order_fills(all_orders,talos_env):\n",
    "    combined_df = pd.DataFrame()  # Initialize an empty dataframe to store the combined data\n",
    "    for identifier in all_orders:\n",
    "        # Call run_function for each identifier and get the dataframe\n",
    "        try:\n",
    "            df = talos_env.get_trade_fills(order_id=identifier)\n",
    "            df['Amount'] = df['Amount'].astype(float)\n",
    "            df['Fee'] = df['Fee'].astype(float)\n",
    "            df['Quantity'] = df['Quantity'].astype(float)\n",
    "            df[\"amount_less_fees\"] = df[\"Amount\"] - df[\"Fee\"]\n",
    "            # Concatenate the dataframe to the combined dataframe\n",
    "            combined_df = pd.concat([combined_df, df], ignore_index=True)\n",
    "            time.sleep(0.100)\n",
    "        except Exception as e:\n",
    "            err_str = f\"ERROR during get_trade_fills for orderID {identifier}: {str(e)}\\n\\n\"\n",
    "            print(err_str)\n",
    "    return combined_df\n",
    "\n",
    "def fills_by_dealer(df, dealer_cutoff_start=None, dealer_cutoff_end=None):\n",
    " \n",
    "    if dealer_cutoff_start and dealer_cutoff_end is not None:\n",
    "        filtered_df = df.loc[(df['Timestamp'] >= dealer_cutoff_start)\n",
    "                             & (df['Timestamp'] < dealer_cutoff_end)]\n",
    "    else:\n",
    "        filtered_df = df\n",
    "    # Group by dealer\n",
    "    df_by_dealer = filtered_df.groupby(\"Market\")[[\"amount_less_fees\", \"Quantity\"]].sum().reset_index()\n",
    "    df_count = filtered_df.groupby(\"Market\")[\"OrderID\"].count().reset_index()\n",
    "    df_count.rename(columns={\"OrderID\": \"fill_count\"})\n",
    "    \n",
    "    pd.options.display.float_format = '{:,.8f}'.format\n",
    "    amount = filtered_df['amount_less_fees'].sum()\n",
    "    qty = filtered_df['Quantity'].sum() \n",
    "\n",
    "    summary_str = f\"Amount: ${amount:,.4f} \\nQuantity: {qty:,.4f}\\n\"\n",
    "    summary_df = df_by_dealer.merge(df_count)\n",
    "    return filtered_df, summary_str, summary_df\n",
    "\n",
    "\n",
    "from google.cloud import bigquery\n",
    "import pandas as pd\n",
    "\n",
    "bqclient = bigquery.Client(project=\"production-191601\")\n",
    "\n",
    "MSTR = \"\"\"\n",
    "SELECT\n",
    "    organizations.org_name AS organization_name,\n",
    "    trading_client_trades.*\n",
    "FROM `production-191601.sales.salesforce_user` AS salesforce_user\n",
    "LEFT JOIN `production-191601.sales.salesforce_account` AS salesforce_account\n",
    "    ON salesforce_account.owner_id = salesforce_user.id\n",
    "FULL OUTER JOIN `brokerage.client_trades` AS trading_client_trades\n",
    "    ON salesforce_account.org_id_c = trading_client_trades.organization_key_id\n",
    "LEFT JOIN `client_operations.organizations_confidential` AS organizations\n",
    "    ON trading_client_trades.organization_key_id = organizations.org_id\n",
    "WHERE\n",
    "    organizations.org_name = 'MicroStrategy'\n",
    "    AND trading_client_trades.created_at >= TIMESTAMP('2023-01-01 00:00:00')\n",
    "    AND trading_client_trades.created_at < CURRENT_TIMESTAMP()\n",
    "    AND trading_client_trades.latest_status IN ('EXECUTED', 'SETTLED', 'SETTLING')\n",
    "    AND (\n",
    "        shared.ASSET_SYMBOL_MAP(trading_client_trades.symbol) NOT IN ('USDC-USD', 'USD-USDC', 'PYUSD-USD')\n",
    "        OR shared.ASSET_SYMBOL_MAP(trading_client_trades.symbol) IS NULL\n",
    "    )\n",
    "ORDER BY\n",
    "    trading_client_trades.created_at DESC;\n",
    "\n",
    "\"\"\"\n",
    "\n",
    "trades_mstr = bqclient.query(MSTR).to_dataframe()\n",
    "\n",
    "id_list = trades_mstr['id'].tolist()\n",
    "filtered_dealer_trades_query = f\"\"\"\n",
    "SELECT *\n",
    "FROM brokerage.dealer_trades_view\n",
    "WHERE symbol = 'BTC-USD'\n",
    "\"\"\"\n",
    "\n",
    "# Execute the query to filter dealer trades\n",
    "filtered_dealer_trades = bqclient.query(filtered_dealer_trades_query).to_dataframe()\n",
    "filtered_dealer_trades = filtered_dealer_trades[filtered_dealer_trades['parent_order_id'].isin(id_list)]\n",
    "\n",
    "# Create a list of order_ids from the filtered_dealer_trades DataFrame\n",
    "order_id_list = filtered_dealer_trades['order_id'].tolist()\n",
    "\n",
    "# Now order_id_list contains all the order_id values\n",
    "print(order_id_list)\n",
    "\n",
    "\n",
    "def process_single_order(order_id, talos_env):\n",
    "    results = {}  # To store the result for this single order_id\n",
    "\n",
    "    print(f\"Processing order ID: {order_id}\")\n",
    "        \n",
    "    # Step 1: Get the combined data for the order\n",
    "    combined_df = multi_order_fills([order_id], talos_env)\n",
    "    print(\"combined_df:\")\n",
    "    print(combined_df)\n",
    "\n",
    "    # Inspect column names to find where the Date/Time is stored\n",
    "    print(\"Columns in combined_df:\", combined_df.columns)\n",
    "\n",
    "    # Step 2: Apply fills_by_dealer to get the summary\n",
    "    filtered_df, summary_str, summary_df = fills_by_dealer(combined_df, dealer_cutoff_start=None, dealer_cutoff_end=None)\n",
    "    \n",
    "    # Step 3: Set index and add win_rate column\n",
    "    summary_df = summary_df.set_index('Market')\n",
    "    summary_df = summary_df.rename(columns={'OrderID': 'fill_count', 'Quantity': 'quantity'})\n",
    "    summary_df.loc[\"TOTAL\"] = summary_df.sum()  # Add a row for TOTAL\n",
    "    summary_df[\"win_rate\"] = summary_df[\"quantity\"] / summary_df.loc[\"TOTAL\", \"quantity\"]\n",
    "\n",
    "    # Step 4: Extract the first date from the 'TransactTime' column and use the first 10 characters\n",
    "    if 'TransactTime' in combined_df.columns:\n",
    "        order_date = combined_df['TransactTime'].iloc[0][:10]  # Get the first 10 characters (yyyy-mm-dd)\n",
    "    else:\n",
    "        order_date = None\n",
    "\n",
    "    # Step 5: Convert the dataframe into a dictionary format\n",
    "    market_data_dict = summary_df.to_dict(orient=\"index\")  # Converts each row into a dictionary keyed by Market\n",
    "        \n",
    "    # Store the result for this order_id, including the date\n",
    "    results[order_id] = {\n",
    "        \"summary_str\": summary_str,  # The summary string (Amount, Quantity, etc.)\n",
    "        \"market_data\": market_data_dict,  # The market data as a dictionary\n",
    "        \"Date\": order_date  # Add the Date of the order (yyyy-mm-dd format)\n",
    "    }\n",
    "\n",
    "    return results\n",
    "\n",
    "# Run the function to process just one order\n",
    "order_id = order_id_list[0]  # Take the first order in the list (or just define a single order)\n",
    "results = process_single_order(order_id, talos_env)\n",
    "\n",
    "# Print the results for the single order\n",
    "print(\"Results for order ID:\", order_id)\n",
    "print(results[order_id])\n",
    "\n",
    "\n",
    "data = []\n",
    "\n",
    "# Iterate over each order_id and its corresponding data\n",
    "for order_id, order_info in results.items():\n",
    "    order_date = order_info['Date']\n",
    "    market_data = order_info['market_data']\n",
    "\n",
    "    # Iterate through each market (dealer)\n",
    "    for market, market_info in market_data.items():\n",
    "        # Prepare the row with the date and the quantity for each dealer\n",
    "        row = {\n",
    "            'Date': order_date,\n",
    "            'Market': market,\n",
    "            'Quantity': market_info['quantity']\n",
    "        }\n",
    "        data.append(row)\n",
    "\n",
    "# Create the DataFrame\n",
    "df = pd.DataFrame(data)\n",
    "\n",
    "# Pivot the DataFrame to have Date as the index and Markets as columns\n",
    "df_pivot = df.pivot(index='Date', columns='Market', values='Quantity')\n",
    "\n",
    "# Fill any missing data with 0 (if you want it to be NaN, you can omit this step)\n",
    "df_pivot = df_pivot.fillna(0)\n",
    "df_pivot\n",
    "\n",
    "def process_all_orders(order_id_list, talos_env):\n",
    "    results = {}  # To store the results for all order_ids\n",
    "\n",
    "    # Loop over each order_id in the list\n",
    "    for order_id in order_id_list:\n",
    "        print(f\"Processing order ID: {order_id}\")\n",
    "        \n",
    "        # Step 1: Get the combined data for the order\n",
    "        combined_df = multi_order_fills([order_id], talos_env)\n",
    "        print(\"combined_df:\")\n",
    "        print(combined_df)\n",
    "\n",
    "        # Inspect column names to find where the Date/Time is stored\n",
    "        print(\"Columns in combined_df:\", combined_df.columns)\n",
    "\n",
    "        # Step 2: Apply fills_by_dealer to get the summary\n",
    "        filtered_df, summary_str, summary_df = fills_by_dealer(combined_df, dealer_cutoff_start=None, dealer_cutoff_end=None)\n",
    "        \n",
    "        # Step 3: Set index and add win_rate column\n",
    "        summary_df = summary_df.set_index('Market')\n",
    "        summary_df = summary_df.rename(columns={'OrderID': 'fill_count', 'Quantity': 'quantity'})\n",
    "        summary_df.loc[\"TOTAL\"] = summary_df.sum()  # Add a row for TOTAL\n",
    "        summary_df[\"win_rate\"] = summary_df[\"quantity\"] / summary_df.loc[\"TOTAL\", \"quantity\"]\n",
    "\n",
    "        # Step 4: Extract the first date from the 'TransactTime' column and use the first 10 characters\n",
    "        if 'TransactTime' in combined_df.columns:\n",
    "            order_date = combined_df['TransactTime'].iloc[0][:10]  # Get the first 10 characters (yyyy-mm-dd)\n",
    "        else:\n",
    "            order_date = None\n",
    "\n",
    "        # Step 5: Convert the dataframe into a dictionary format\n",
    "        market_data_dict = summary_df.to_dict(orient=\"index\")  # Converts each row into a dictionary keyed by Market\n",
    "            \n",
    "        # Store the result for this order_id, including the date\n",
    "        results[order_id] = {\n",
    "            \"summary_str\": summary_str,  # The summary string (Amount, Quantity, etc.)\n",
    "            \"market_data\": market_data_dict,  # The market data as a dictionary\n",
    "            \"Date\": order_date  # Add the Date of the order (yyyy-mm-dd format)\n",
    "        }\n",
    "\n",
    "    return results\n",
    "\n",
    "# Run the function to process all order_ids\n",
    "results = process_all_orders(order_id_list, talos_env)\n",
    "\n",
    "# Print the results for each order_id\n",
    "for order_id, data in results.items():\n",
    "    print(f\"Results for order ID {order_id}:\")\n",
    "    print(data)\n"
   ]
  },
  {
   "cell_type": "code",
   "execution_count": null,
   "metadata": {},
   "outputs": [],
   "source": [
    "\n"
   ]
  },
  {
   "cell_type": "code",
   "execution_count": null,
   "metadata": {},
   "outputs": [],
   "source": []
  },
  {
   "cell_type": "code",
   "execution_count": null,
   "metadata": {},
   "outputs": [],
   "source": []
  },
  {
   "cell_type": "code",
   "execution_count": null,
   "metadata": {},
   "outputs": [],
   "source": []
  }
 ],
 "metadata": {
  "kernelspec": {
   "display_name": "usr",
   "language": "python",
   "name": "python3"
  },
  "language_info": {
   "codemirror_mode": {
    "name": "ipython",
    "version": 3
   },
   "file_extension": ".py",
   "mimetype": "text/x-python",
   "name": "python",
   "nbconvert_exporter": "python",
   "pygments_lexer": "ipython3",
   "version": "3.9.2"
  }
 },
 "nbformat": 4,
 "nbformat_minor": 2
}
